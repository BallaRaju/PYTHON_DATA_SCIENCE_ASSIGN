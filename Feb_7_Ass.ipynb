{
 "cells": [
  {
   "cell_type": "markdown",
   "id": "63cbbdff-8496-44a6-8a38-13c7b4314919",
   "metadata": {},
   "source": [
    "# Feb 7 ASSIGNMENT"
   ]
  },
  {
   "cell_type": "markdown",
   "id": "06dec8c0-beec-485e-9f96-b3b57ff1890a",
   "metadata": {},
   "source": [
    "# Q1. You are writing code for a company. The requirement of the company is that you create a python\n",
    "# function that will check whether the password entered by the user is correct or not. The function should\n",
    "# take the password as input and return the string “Valid Password” if the entered password follows the\n",
    "# below-given password guidelines else it should return “Invalid Password”.\n",
    "# Note: 1. The Password should contain at least two uppercase letters and at least two lowercase letters.\n",
    "# 2. The Password should contain at least a number and three special characters.\n",
    "# 3. The length of the password should be 10 characters long."
   ]
  },
  {
   "cell_type": "code",
   "execution_count": 1,
   "id": "0d40bc73-c887-449f-8d69-c746f39241c7",
   "metadata": {},
   "outputs": [],
   "source": [
    "def check_password(password):\n",
    "    # Check the length of the password\n",
    "    if len(password) != 10:\n",
    "        return 'Invalid Password'\n",
    "    \n",
    "    # Initialize counters for uppercase letters, lowercase letters, numbers, and special characters\n",
    "    upper_count = 0\n",
    "    lower_count = 0\n",
    "    number_count = 0\n",
    "    special_count = 0\n",
    "    \n",
    "    # Check each character in the password\n",
    "    for char in password:\n",
    "        if char.isupper():\n",
    "            upper_count += 1\n",
    "        elif char.islower():\n",
    "            lower_count += 1\n",
    "        elif char.isdigit():\n",
    "            number_count += 1\n",
    "        elif not char.isalnum():\n",
    "            special_count += 1\n",
    "    \n",
    "    # Check if the password meets the criteria\n",
    "    if upper_count >= 2 and lower_count >= 2 and number_count >= 1 and special_count >= 3:\n",
    "        return 'Valid Password'\n",
    "    else:\n",
    "        return 'Invalid Password'\n"
   ]
  },
  {
   "cell_type": "code",
   "execution_count": 2,
   "id": "c534afa1-d432-4588-a274-9a3245f94c1d",
   "metadata": {},
   "outputs": [
    {
     "name": "stdout",
     "output_type": "stream",
     "text": [
      "Invalid Password\n",
      "Invalid Password\n",
      "Valid Password\n",
      "Invalid Password\n",
      "Invalid Password\n"
     ]
    }
   ],
   "source": [
    "password1 = 'Abc123#$%t'\n",
    "password2 = 'aBc123#$%t'\n",
    "password3 = 'ABc123#$%t'\n",
    "password4 = 'Abc12345#$'\n",
    "password5 = 'Abc#$%tuv12'\n",
    "\n",
    "print(check_password(password1)) # Valid Password\n",
    "print(check_password(password2)) # Invalid Password\n",
    "print(check_password(password3)) # Invalid Password\n",
    "print(check_password(password4)) # Invalid Password\n",
    "print(check_password(password5)) # Invalid Password\n"
   ]
  },
  {
   "cell_type": "markdown",
   "id": "e2a25afc-0271-4c58-adc6-70543abb73a8",
   "metadata": {},
   "source": [
    "# Q2. Solve the below-given questions using at least one of the following:\n",
    "## 1. Lambda functioJ\n",
    "## 2. Filter functioJ\n",
    "## 3. Zap functioJ\n",
    "## 4. List ComprehensioI\n",
    "## a. Check if the string starts with a particular letterY\n",
    "## b. Check if the string is numericY\n",
    "## c. Sort a list of tuples having fruit names and their quantity. [(\"mango\",99),(\"orange\",80), (\"grapes\", 1000)-\n",
    "## d. Find the squares of numbers from 1 to 10Y\n",
    "## e. Find the cube root of numbers from 1 to 10Y\n",
    "## f. Check if a given number is evenY\n",
    "## g. Filter odd numbers from the given list.\n",
    "## [1,2,3,4,5,6,7,8,9,10]\n",
    "## h Sort a list of integers into positive and negative integers lists.\n",
    "## [1,2,3,4,5,6,-1,-2,-3,-4,-5,0]"
   ]
  },
  {
   "cell_type": "markdown",
   "id": "4a4a86da-4bfb-4ba1-bc31-62910f34f55c",
   "metadata": {},
   "source": [
    "# a program"
   ]
  },
  {
   "cell_type": "code",
   "execution_count": 3,
   "id": "cf9bef5b-b7cd-494f-8944-04f0523c138a",
   "metadata": {},
   "outputs": [
    {
     "name": "stdout",
     "output_type": "stream",
     "text": [
      "True\n",
      "False\n"
     ]
    }
   ],
   "source": [
    "starts_with_s = lambda s: s.startswith('s')\n",
    "print(starts_with_s('sunny')) \n",
    "print(starts_with_s('cloudy')) \n"
   ]
  },
  {
   "cell_type": "markdown",
   "id": "e3d68ffa-9518-4d51-818e-7b544b995ec2",
   "metadata": {},
   "source": [
    "# b program"
   ]
  },
  {
   "cell_type": "code",
   "execution_count": 4,
   "id": "a9232fcc-5ede-44e2-90f3-2b1d554186a6",
   "metadata": {},
   "outputs": [
    {
     "name": "stdout",
     "output_type": "stream",
     "text": [
      "True\n",
      "False\n"
     ]
    }
   ],
   "source": [
    "is_numeric = lambda s: s.isnumeric()\n",
    "print(is_numeric('123')) \n",
    "print(is_numeric('1.23'))  \n"
   ]
  },
  {
   "cell_type": "markdown",
   "id": "2b3f4618-70e4-4a45-925f-402c58e82915",
   "metadata": {},
   "source": [
    "# c program"
   ]
  },
  {
   "cell_type": "code",
   "execution_count": 5,
   "id": "4993ee19-b8af-4173-9827-4cb23f46da71",
   "metadata": {},
   "outputs": [
    {
     "name": "stdout",
     "output_type": "stream",
     "text": [
      "[('orange', 80), ('mango', 99), ('grapes', 1000)]\n"
     ]
    }
   ],
   "source": [
    "fruit_list = [(\"mango\", 99), (\"orange\", 80), (\"grapes\", 1000)]\n",
    "sorted_fruit_list = sorted(fruit_list, key=lambda x: x[1])\n",
    "print(sorted_fruit_list) \n"
   ]
  },
  {
   "cell_type": "markdown",
   "id": "f2f24a2e-4636-4d04-8244-93a79e82c3c5",
   "metadata": {},
   "source": [
    "# d program"
   ]
  },
  {
   "cell_type": "code",
   "execution_count": 6,
   "id": "1d8cb1b6-7489-4d40-ac4e-bfacc6c40f64",
   "metadata": {},
   "outputs": [
    {
     "name": "stdout",
     "output_type": "stream",
     "text": [
      "[1, 4, 9, 16, 25, 36, 49, 64, 81, 100]\n"
     ]
    }
   ],
   "source": [
    "squares = [x ** 2 for x in range(1, 11)]\n",
    "print(squares) \n"
   ]
  },
  {
   "cell_type": "markdown",
   "id": "1011dae5-86e8-4029-8775-40634783e08e",
   "metadata": {},
   "source": [
    "# e program"
   ]
  },
  {
   "cell_type": "code",
   "execution_count": 8,
   "id": "f2df1390-1a0d-41fc-a836-f9b9345f02cd",
   "metadata": {},
   "outputs": [
    {
     "name": "stdout",
     "output_type": "stream",
     "text": [
      "[1.0, 1.2599210498948732, 1.4422495703074083, 1.5874010519681994, 1.7099759466766968, 1.8171205928321397, 1.912931182772389, 2.0, 2.080083823051904, 2.154434690031884]\n"
     ]
    }
   ],
   "source": [
    "import math\n",
    "cube_roots = lambda x: math.pow(x, 1/3)\n",
    "cube_roots_list = [cube_roots(x) for x in range(1, 11)]\n",
    "print(cube_roots_list)  "
   ]
  },
  {
   "cell_type": "markdown",
   "id": "5a869f36-1e60-487a-af08-4235a837944a",
   "metadata": {},
   "source": [
    "# f program"
   ]
  },
  {
   "cell_type": "code",
   "execution_count": 9,
   "id": "5bce7dec-343e-4106-9a65-3f0a4f5ce5d7",
   "metadata": {},
   "outputs": [
    {
     "name": "stdout",
     "output_type": "stream",
     "text": [
      "True\n",
      "False\n"
     ]
    }
   ],
   "source": [
    "is_even = lambda x: x % 2 == 0\n",
    "print(is_even(4))  \n",
    "print(is_even(7))  \n"
   ]
  },
  {
   "cell_type": "markdown",
   "id": "2c46fa63-4283-4a97-9456-d6075f4bd430",
   "metadata": {},
   "source": [
    "# g program"
   ]
  },
  {
   "cell_type": "code",
   "execution_count": 10,
   "id": "4acca713-f665-49ab-a7e0-3229b72d7bb3",
   "metadata": {},
   "outputs": [
    {
     "name": "stdout",
     "output_type": "stream",
     "text": [
      "[1, 3, 5, 7, 9]\n"
     ]
    }
   ],
   "source": [
    "numbers = [1, 2, 3, 4, 5, 6, 7, 8, 9, 10]\n",
    "odd_numbers = list(filter(lambda x: x % 2 != 0, numbers))\n",
    "print(odd_numbers) \n"
   ]
  },
  {
   "cell_type": "markdown",
   "id": "d636835e-204e-4df3-b48a-1e99c811d95d",
   "metadata": {},
   "source": [
    "# h program"
   ]
  },
  {
   "cell_type": "code",
   "execution_count": 15,
   "id": "7b6ccf7b-feca-41fd-a4e6-50f10e83da97",
   "metadata": {},
   "outputs": [],
   "source": [
    "numbers_list = [1, 2, 3, 4, 5, 6, -1, -2, -3, -4, -5, 0]\n",
    "positive_numbers_list = [x for x in numbers_list if x > 0]\n",
    "negative_numbers_list = list(filter(lambda x: x < 0,numbers_list))\n"
   ]
  },
  {
   "cell_type": "code",
   "execution_count": 16,
   "id": "792fa991-1311-43f3-ba2a-93390e4858e0",
   "metadata": {},
   "outputs": [
    {
     "name": "stdout",
     "output_type": "stream",
     "text": [
      "[1, 2, 3, 4, 5, 6]\n",
      "[-1, -2, -3, -4, -5]\n"
     ]
    }
   ],
   "source": [
    "print(positive_numbers_list)\n",
    "print(negative_numbers_list)"
   ]
  },
  {
   "cell_type": "code",
   "execution_count": null,
   "id": "d4032dea-535c-40b2-91ab-9c4423da5dda",
   "metadata": {},
   "outputs": [],
   "source": []
  }
 ],
 "metadata": {
  "kernelspec": {
   "display_name": "Python 3 (ipykernel)",
   "language": "python",
   "name": "python3"
  },
  "language_info": {
   "codemirror_mode": {
    "name": "ipython",
    "version": 3
   },
   "file_extension": ".py",
   "mimetype": "text/x-python",
   "name": "python",
   "nbconvert_exporter": "python",
   "pygments_lexer": "ipython3",
   "version": "3.10.8"
  }
 },
 "nbformat": 4,
 "nbformat_minor": 5
}
