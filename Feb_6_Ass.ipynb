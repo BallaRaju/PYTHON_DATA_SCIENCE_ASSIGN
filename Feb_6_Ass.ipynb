{
 "cells": [
  {
   "cell_type": "markdown",
   "id": "f0c7cd2f-4f67-4b5c-8399-cba11a23718d",
   "metadata": {},
   "source": [
    "# Feb 6 Assignment"
   ]
  },
  {
   "cell_type": "markdown",
   "id": "91af0c05-a8f6-4abe-9036-55fd2d505ea3",
   "metadata": {},
   "source": [
    "# 1.Q1. Create a function which will take a list as an argument and return the product of all the numbers after creating a flat list.\n",
    "# Use the below-given list as an argument for your function.\n",
    "# list1 = [1,2,3,4, [44,55,66, True], False, (34,56,78,89,34), {1,2,3,3,2,1}, {1:34, \"key2\": [55, 67, 78, 89], 4: (45,22, 61, 34)}, \n",
    "# [56, 'datascience'], 'Machine Learning']\n",
    "# Note: you must extract numeric keys and values of the dictionary also."
   ]
  },
  {
   "cell_type": "code",
   "execution_count": 2,
   "id": "6e31bc3b-b51d-43ce-ae78-60b8f98cb8c6",
   "metadata": {},
   "outputs": [],
   "source": [
    "list1 = [1,2,3,4, [44,55,66, True], False, (34,56,78,89,34), {1,2,3,3,2,1}, {1:34, \"key2\": [55, 67, 78, 89], 4: (45,22, 61, 34)}]"
   ]
  },
  {
   "cell_type": "code",
   "execution_count": 13,
   "id": "0dd95e32-5c42-4d08-a8bd-b8c795bcc6f3",
   "metadata": {},
   "outputs": [
    {
     "name": "stdout",
     "output_type": "stream",
     "text": [
      "[1, 2, 3, 4, 44, 55, 66, 1, 2, 3, 1, 4, 34]\n"
     ]
    }
   ],
   "source": [
    "le=[]\n",
    "for i in list1:\n",
    "    if type(i)==int or type(i)==float:\n",
    "        le.append(i)\n",
    "    elif type(i)==list:\n",
    "        for x in i:\n",
    "            if type(x)==int or type(x)==float:\n",
    "                le.append(x)\n",
    "    elif type(i)==set:\n",
    "        for y in i:\n",
    "            if type(y)==int or type(y)==float:\n",
    "                le.append(y)\n",
    "    elif type(i)==dict:\n",
    "        for z in dict.keys(i):\n",
    "            if type(z)==int or type(z)==float:\n",
    "                le.append(z)\n",
    "        for e in dict.values(i):\n",
    "            if type(e)==int or type(e)==float:\n",
    "                le.append(e)\n",
    "print(le)\n",
    "    \n",
    "            "
   ]
  },
  {
   "cell_type": "code",
   "execution_count": 14,
   "id": "27c72372-38b4-488e-b3b5-5afb146589ab",
   "metadata": {},
   "outputs": [],
   "source": [
    "def pro(a):\n",
    "    p=1\n",
    "    for i in a:\n",
    "        p=p*i\n",
    "    print('product is ' ,p)"
   ]
  },
  {
   "cell_type": "code",
   "execution_count": 15,
   "id": "19590aa5-151b-4072-9ac3-51d66d74b216",
   "metadata": {},
   "outputs": [
    {
     "name": "stdout",
     "output_type": "stream",
     "text": [
      "product is  3127956480\n"
     ]
    }
   ],
   "source": [
    "pro(le)"
   ]
  },
  {
   "cell_type": "markdown",
   "id": "8af97763-f798-488b-94ed-cbf6775bee81",
   "metadata": {},
   "source": [
    "# Q2. Write a python program for encrypting a message sent to you by your friend. The logic of encryption\n",
    "# should be such that, for a the output should be z. For b, the output should be y. For c, the output should\n",
    "# be x respectively. Also, the whitespace should be replaced with a dollar sign. Keep the punctuation\n",
    "# marks unchanged.\n",
    "# Input Sentence: I want to become a Data Scientist.\n",
    "# Encrypt the above input sentence using the program you just created.\n",
    "# Note: Convert the given input sentence into lowercase before encrypting. The final output should be lowercase.\n",
    "### ANSWER:--"
   ]
  },
  {
   "cell_type": "code",
   "execution_count": 16,
   "id": "f39729fd-69a1-49f3-ba64-bc1699672630",
   "metadata": {},
   "outputs": [],
   "source": [
    "def encrypt_message(message):\n",
    "    # Convert the message to lowercase\n",
    "    message = message.lower()\n",
    "    \n",
    "    # Create a dictionary to map each letter to its corresponding encrypted letter\n",
    "    encryption_map = {\n",
    "        'a': 'z',\n",
    "        'b': 'y',\n",
    "        'c': 'x',\n",
    "        'd': 'w',\n",
    "        'e': 'v',\n",
    "        'f': 'u',\n",
    "        'g': 't',\n",
    "        'h': 's',\n",
    "        'i': 'r',\n",
    "        'j': 'q',\n",
    "        'k': 'p',\n",
    "        'l': 'o',\n",
    "        'm': 'n',\n",
    "        'n': 'm',\n",
    "        'o': 'l',\n",
    "        'p': 'k',\n",
    "        'q': 'j',\n",
    "        'r': 'i',\n",
    "        's': 'h',\n",
    "        't': 'g',\n",
    "        'u': 'f',\n",
    "        'v': 'e',\n",
    "        'w': 'd',\n",
    "        'x': 'c',\n",
    "        'y': 'b',\n",
    "        'z': 'a'\n",
    "    }\n",
    "    \n",
    "    # Encrypt the message letter by letter\n",
    "    encrypted_message = ''\n",
    "    for letter in message:\n",
    "        if letter in encryption_map:\n",
    "            encrypted_message += encryption_map[letter]\n",
    "        elif letter == ' ':\n",
    "            encrypted_message += '$'\n",
    "        else:\n",
    "            encrypted_message += letter\n",
    "    \n",
    "    return encrypted_message\n"
   ]
  },
  {
   "cell_type": "code",
   "execution_count": 17,
   "id": "d4dd856b-a4a8-4ffe-9e2f-bfb15a620eea",
   "metadata": {},
   "outputs": [
    {
     "name": "stdout",
     "output_type": "stream",
     "text": [
      "r$dzmg$gl$yvxlnv$z$wzgz$hxrvmgrhg.\n"
     ]
    }
   ],
   "source": [
    "input_sentence = 'I want to become a Data Scientist.'\n",
    "encrypted_sentence = encrypt_message(input_sentence)\n",
    "print(encrypted_sentence)\n"
   ]
  },
  {
   "cell_type": "code",
   "execution_count": null,
   "id": "9fd8e7bf-9e30-4710-aa17-a0ccab618e8e",
   "metadata": {},
   "outputs": [],
   "source": []
  }
 ],
 "metadata": {
  "kernelspec": {
   "display_name": "Python 3 (ipykernel)",
   "language": "python",
   "name": "python3"
  },
  "language_info": {
   "codemirror_mode": {
    "name": "ipython",
    "version": 3
   },
   "file_extension": ".py",
   "mimetype": "text/x-python",
   "name": "python",
   "nbconvert_exporter": "python",
   "pygments_lexer": "ipython3",
   "version": "3.10.8"
  }
 },
 "nbformat": 4,
 "nbformat_minor": 5
}
