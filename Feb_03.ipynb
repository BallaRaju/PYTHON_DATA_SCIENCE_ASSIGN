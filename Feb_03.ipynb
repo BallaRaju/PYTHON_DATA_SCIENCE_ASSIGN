{
 "cells": [
  {
   "cell_type": "markdown",
   "id": "58274d4d-3f37-4a98-bbf5-a19d9249e3f0",
   "metadata": {},
   "source": [
    "# Q1. Which keyword is used to create a function? Create a function to return a list of odd numbers in the range of 1 to 25.\n",
    "## ANSWER:---\n",
    "def keyword is used to create a function in python."
   ]
  },
  {
   "cell_type": "code",
   "execution_count": 4,
   "id": "84cebb21-bfba-4ad4-8325-9b056e2cbdcc",
   "metadata": {},
   "outputs": [],
   "source": [
    "def test():\n",
    "    l=[]\n",
    "    for i in range(1,26):\n",
    "        if i%2!=0:\n",
    "            l.append(i)\n",
    "    return l"
   ]
  },
  {
   "cell_type": "code",
   "execution_count": 5,
   "id": "791fc3a2-2f06-43ba-acd7-a224a64a552f",
   "metadata": {},
   "outputs": [
    {
     "data": {
      "text/plain": [
       "[1, 3, 5, 7, 9, 11, 13, 15, 17, 19, 21, 23, 25]"
      ]
     },
     "execution_count": 5,
     "metadata": {},
     "output_type": "execute_result"
    }
   ],
   "source": [
    "test()"
   ]
  },
  {
   "cell_type": "markdown",
   "id": "27f4cfa8-1e52-4441-ae07-92524e63a486",
   "metadata": {},
   "source": [
    "# Q2. Why *args and **kwargs is used in some functions? Create a function each for *args and **kwargs to demonstrate their use.\n",
    "## ANSWER:---\n",
    "1.To take multiple inputs which are of any type we use *args.\n",
    "\n",
    "2.To take key-value pairs as input into the function means as dict type we use **kwargs."
   ]
  },
  {
   "cell_type": "code",
   "execution_count": 6,
   "id": "3116841e-678d-4efa-80d7-a49bb6428601",
   "metadata": {},
   "outputs": [],
   "source": [
    "# demonstrating the *args\n",
    "def test1(*args):\n",
    "    return args"
   ]
  },
  {
   "cell_type": "code",
   "execution_count": 7,
   "id": "cb57b5ee-5fec-42d2-bc40-130d4e6759ed",
   "metadata": {},
   "outputs": [
    {
     "data": {
      "text/plain": [
       "(1, 2, 3, 4, 'raju', 'ram')"
      ]
     },
     "execution_count": 7,
     "metadata": {},
     "output_type": "execute_result"
    }
   ],
   "source": [
    "test1(1,2,3,4,\"raju\",\"ram\")"
   ]
  },
  {
   "cell_type": "code",
   "execution_count": 9,
   "id": "5ea7abbd-4a75-4fba-90c2-190f22ee4281",
   "metadata": {},
   "outputs": [],
   "source": [
    "# demonstrating the **kwargs\n",
    "def test3(**kwargs):\n",
    "    return kwargs"
   ]
  },
  {
   "cell_type": "code",
   "execution_count": 18,
   "id": "456c429f-7dac-4daa-9714-a64bb72a5f8a",
   "metadata": {},
   "outputs": [
    {
     "data": {
      "text/plain": [
       "{'a': 2, 'b': 8, 'c': [4, 5], 'i': 0}"
      ]
     },
     "execution_count": 18,
     "metadata": {},
     "output_type": "execute_result"
    }
   ],
   "source": [
    "test3(a=2,b=8,c=[4,5],i=0)"
   ]
  },
  {
   "cell_type": "markdown",
   "id": "4fec0aa6-3c68-4814-96ac-20e6c62f46c9",
   "metadata": {},
   "source": [
    "# Q3. What is an iterator in python? Name the method used to initialise the iterator object and the method used for iteration. Use these methods to print the first five elements of the given list [2, 4, 6, 8, 10, 12, 14, 16,18, 20].\n",
    "## ANSWER:---\n",
    "In Python, an iterator is an object that allows iteration over a collection of elements such as a list, tuple, or dictionary. Iterators are implemented using the iter() and next() methods.\n",
    "\n",
    "The iter() method initializes the iterator object and returns the iterator itself. The next() method returns the next item in the iterator.\n",
    "\n",
    "To print the first five elements of the given list using an iterator in Python, we can follow these steps:\n",
    "\n",
    "1.Create an iterator object using the iter() method and pass the list as an argument.\n",
    "\n",
    "2.Use the next() method to iterate over the first five elements of the list.\n",
    "\n",
    "3.Print each element using the print() function.\n",
    "\n",
    "Here's the Python code to achieve this:"
   ]
  },
  {
   "cell_type": "code",
   "execution_count": 19,
   "id": "6a2bb863-cab3-453e-8eeb-7be858010af5",
   "metadata": {},
   "outputs": [
    {
     "name": "stdout",
     "output_type": "stream",
     "text": [
      "2\n",
      "4\n",
      "6\n",
      "8\n",
      "10\n"
     ]
    }
   ],
   "source": [
    "my_list = [2, 4, 6, 8, 10, 12, 14, 16, 18, 20]\n",
    "\n",
    "# create an iterator object\n",
    "my_iter = iter(my_list)\n",
    "\n",
    "# iterate over the first five elements using next() method\n",
    "print(next(my_iter))\n",
    "print(next(my_iter))\n",
    "print(next(my_iter))\n",
    "print(next(my_iter))\n",
    "print(next(my_iter))\n"
   ]
  },
  {
   "cell_type": "markdown",
   "id": "db31809b-0c2f-46d9-a9f0-e525e8e70276",
   "metadata": {},
   "source": [
    "# Q4. What is a generator function in python? Why yield keyword is used? Give an example of a generator function.\n",
    "## ANSWER:---\n",
    "In Python, a generator function is a special type of function that generates a sequence of values, one at a time, using the yield keyword instead of\n",
    "\n",
    "return. A generator function returns an iterator object that can be iterated over using a for loop or the next() function.\n",
    "\n",
    "The yield keyword is used in generator functions to produce a value in the sequence and temporarily suspend the execution of the function. When the \n",
    "\n",
    "generator function is called again, it resumes execution from where it left off and generates the next value in the sequence.\n",
    "\n",
    "The main advantage of using a generator function over a regular function is that it generates values on-the-fly, which reduces memory usage and  \n",
    "\n",
    "improves performance, especially for large datasets."
   ]
  },
  {
   "cell_type": "code",
   "execution_count": 20,
   "id": "8651b459-d9df-4311-bb7f-10c94b88f33a",
   "metadata": {},
   "outputs": [],
   "source": [
    "def fib(n):\n",
    "    a,b=0,1\n",
    "    for i in range(n):\n",
    "        yield a\n",
    "        a,b=b,a+b\n",
    "        "
   ]
  },
  {
   "cell_type": "code",
   "execution_count": 21,
   "id": "aaad1981-04e4-4c17-9169-fbcaa42bbb3e",
   "metadata": {},
   "outputs": [
    {
     "data": {
      "text/plain": [
       "<generator object fib at 0x7f94b4198890>"
      ]
     },
     "execution_count": 21,
     "metadata": {},
     "output_type": "execute_result"
    }
   ],
   "source": [
    "fib(10)"
   ]
  },
  {
   "cell_type": "code",
   "execution_count": 22,
   "id": "69f36c2e-1ab7-46c9-bd36-dddc877fbf84",
   "metadata": {},
   "outputs": [
    {
     "name": "stdout",
     "output_type": "stream",
     "text": [
      "0\n",
      "1\n",
      "1\n",
      "2\n",
      "3\n",
      "5\n",
      "8\n",
      "13\n",
      "21\n",
      "34\n"
     ]
    }
   ],
   "source": [
    "for i in fib(10):\n",
    "    print(i)"
   ]
  },
  {
   "cell_type": "markdown",
   "id": "3b28eea1-d61c-4d1f-aa5e-4560d5468213",
   "metadata": {},
   "source": [
    "# Q5. Create a generator function for prime numbers less than 1000. Use the next() method to print the first 20 prime numbers.\n",
    "## ANSWER:---\n"
   ]
  },
  {
   "cell_type": "code",
   "execution_count": 23,
   "id": "f5fa0871-ecdf-486b-a00a-2f7df30be6a6",
   "metadata": {},
   "outputs": [],
   "source": [
    "def prime_numbers():\n",
    "    num = 2\n",
    "    while True:\n",
    "        if all(num % i != 0 for i in range(2, int(num**0.5)+1)):\n",
    "            yield num\n",
    "        num += 1\n",
    "        if num >= 1000:\n",
    "            break\n"
   ]
  },
  {
   "cell_type": "code",
   "execution_count": 25,
   "id": "67170299-8c46-4be7-aed7-f2d4b103d0e5",
   "metadata": {},
   "outputs": [
    {
     "data": {
      "text/plain": [
       "<generator object prime_numbers at 0x7f94b445b8b0>"
      ]
     },
     "execution_count": 25,
     "metadata": {},
     "output_type": "execute_result"
    }
   ],
   "source": [
    "prime_numbers()"
   ]
  },
  {
   "cell_type": "code",
   "execution_count": 26,
   "id": "aa91a367-d46c-4010-be7a-267e6fe5fe4a",
   "metadata": {},
   "outputs": [],
   "source": [
    "prime_nums=prime_numbers()"
   ]
  },
  {
   "cell_type": "code",
   "execution_count": null,
   "id": "d440a322-547a-418a-8eee-86a900090117",
   "metadata": {},
   "outputs": [],
   "source": [
    "for i range(20):\n",
    "    "
   ]
  }
 ],
 "metadata": {
  "kernelspec": {
   "display_name": "Python 3 (ipykernel)",
   "language": "python",
   "name": "python3"
  },
  "language_info": {
   "codemirror_mode": {
    "name": "ipython",
    "version": 3
   },
   "file_extension": ".py",
   "mimetype": "text/x-python",
   "name": "python",
   "nbconvert_exporter": "python",
   "pygments_lexer": "ipython3",
   "version": "3.10.8"
  }
 },
 "nbformat": 4,
 "nbformat_minor": 5
}
