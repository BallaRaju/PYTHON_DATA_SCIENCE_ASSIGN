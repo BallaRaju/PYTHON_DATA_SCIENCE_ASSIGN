{
 "cells": [
  {
   "cell_type": "markdown",
   "id": "53369322-75d4-4c76-8489-477e4f03ec52",
   "metadata": {},
   "source": [
    "# Exception handling Assignment Feb 23"
   ]
  },
  {
   "cell_type": "markdown",
   "id": "4cabd4e3-719d-4d45-92b9-7a73770e3e8d",
   "metadata": {},
   "source": [
    "## 1.What is an exception in python ? Write the difference between Exception and syntax errors."
   ]
  },
  {
   "cell_type": "markdown",
   "id": "b7e4f78d-fbf6-4c73-997f-f8af290c2017",
   "metadata": {},
   "source": [
    "An Exception is an event, which occurs during the execution of the program that dirupts the normal flow of the program instruction.\n",
    "\n",
    "Main difference between the Exception and the syntax error is Exception occurs at runtime.\n",
    "\n",
    "Syntax error occurs at the compile time of program."
   ]
  },
  {
   "cell_type": "markdown",
   "id": "e1f0862e-f910-49f7-8f6b-626e0e8acf9b",
   "metadata": {},
   "source": [
    "# 2.What happened when an exception is not handled ? Explain with example ?"
   ]
  },
  {
   "cell_type": "markdown",
   "id": "7b5548eb-477b-4605-97ef-df7ab957ef2f",
   "metadata": {},
   "source": [
    "If the exception was not handled then the runtime system will abort the program and an exception message will print in the console."
   ]
  },
  {
   "cell_type": "markdown",
   "id": "bee69eaa-d8b3-4be1-8cb5-c915caaa2294",
   "metadata": {},
   "source": [
    "#### example"
   ]
  },
  {
   "cell_type": "markdown",
   "id": "f85d091f-b8c9-419f-a4b9-25fd5313d041",
   "metadata": {},
   "source": [
    "try:\n",
    "    f=open(\"test.txt\",'r')\n",
    "print(\"this statement will not execute\")"
   ]
  },
  {
   "cell_type": "markdown",
   "id": "53c2d051-b62b-48a0-b36d-c6d4fa86ce85",
   "metadata": {},
   "source": [
    "# 3.Which python statements are used to catch and handle the exceptions?Explain with an example?"
   ]
  },
  {
   "cell_type": "markdown",
   "id": "c15fddab-ef92-4c37-801a-b27ef1e712b2",
   "metadata": {},
   "source": [
    "The try and except block in Python is used to catch and handle exceptions. \n",
    "\n",
    "Python executes code following the try statement as a “normal” part of the program. \n",
    "\n",
    "The code that follows the except statement is the program's response to any exceptions in the preceding try clause."
   ]
  },
  {
   "cell_type": "code",
   "execution_count": 4,
   "id": "65e15486-4721-46fa-99d7-0b97e7700a56",
   "metadata": {},
   "outputs": [
    {
     "name": "stdout",
     "output_type": "stream",
     "text": [
      "the error is  [Errno 2] No such file or directory: 'nofile.txt'\n"
     ]
    }
   ],
   "source": [
    "try:\n",
    "    f=open(\"nofile.txt\",'r')\n",
    "except Exception as e:\n",
    "    print(\"the error is \",e)"
   ]
  },
  {
   "cell_type": "markdown",
   "id": "a9806dca-ad9b-438f-997c-328e893e511a",
   "metadata": {},
   "source": [
    "# 4.Explain with an example"
   ]
  },
  {
   "cell_type": "markdown",
   "id": "04fabe38-3de0-4aa4-80b7-6a2f636b1cdb",
   "metadata": {},
   "source": [
    "## a.try and else\n",
    "\n",
    "try block contains the suspicious code inside it.Means that code may generate exception.\n",
    "\n",
    "else block contains the code that must be executed only after the execution of code in try block without any exceptions."
   ]
  },
  {
   "cell_type": "code",
   "execution_count": 5,
   "id": "a05d8940-02c1-4ea2-bc48-e388c9b3f5f1",
   "metadata": {},
   "outputs": [
    {
     "name": "stdout",
     "output_type": "stream",
     "text": [
      "the error is  division by zero\n"
     ]
    }
   ],
   "source": [
    "try:\n",
    "    a=10\n",
    "    print(a/0)\n",
    "except Exception as e:\n",
    "    print(\"the error is \",e)\n",
    "else:\n",
    "    print(\"else block gets executes only if no exception in try block\")"
   ]
  },
  {
   "cell_type": "code",
   "execution_count": 6,
   "id": "a5930961-c52c-4a9d-97d5-15ab3d94bbc8",
   "metadata": {},
   "outputs": [
    {
     "name": "stdout",
     "output_type": "stream",
     "text": [
      "10.0\n",
      "else block gets executes only if no exception in try block\n"
     ]
    }
   ],
   "source": [
    "try:\n",
    "    a=10\n",
    "    print(a/1)\n",
    "except Exception as e:\n",
    "    print(\"the error is \",e)\n",
    "else:\n",
    "    print(\"else block gets executes only if no exception in try block\")"
   ]
  },
  {
   "cell_type": "markdown",
   "id": "8a8ff1d9-2b94-4025-ba6c-26b4e1ffb8a0",
   "metadata": {},
   "source": [
    "## b.finally\n",
    "finally block gets executed in any condition.Means at any cost if exception raised or not the code inside the finally block executed."
   ]
  },
  {
   "cell_type": "code",
   "execution_count": 7,
   "id": "b83d9e86-b24f-4db9-a53d-62beca6b2016",
   "metadata": {},
   "outputs": [
    {
     "name": "stdout",
     "output_type": "stream",
     "text": [
      "this code will execute\n"
     ]
    },
    {
     "ename": "FileNotFoundError",
     "evalue": "[Errno 2] No such file or directory: 'nof.txt'",
     "output_type": "error",
     "traceback": [
      "\u001b[0;31m---------------------------------------------------------------------------\u001b[0m",
      "\u001b[0;31mFileNotFoundError\u001b[0m                         Traceback (most recent call last)",
      "Cell \u001b[0;32mIn[7], line 2\u001b[0m\n\u001b[1;32m      1\u001b[0m \u001b[38;5;28;01mtry\u001b[39;00m:\n\u001b[0;32m----> 2\u001b[0m     f2\u001b[38;5;241m=\u001b[39m\u001b[38;5;28;43mopen\u001b[39;49m\u001b[43m(\u001b[49m\u001b[38;5;124;43m\"\u001b[39;49m\u001b[38;5;124;43mnof.txt\u001b[39;49m\u001b[38;5;124;43m\"\u001b[39;49m\u001b[43m,\u001b[49m\u001b[38;5;124;43m'\u001b[39;49m\u001b[38;5;124;43mr\u001b[39;49m\u001b[38;5;124;43m'\u001b[39;49m\u001b[43m)\u001b[49m\n\u001b[1;32m      3\u001b[0m \u001b[38;5;28;01mfinally\u001b[39;00m:\n\u001b[1;32m      4\u001b[0m     \u001b[38;5;28mprint\u001b[39m(\u001b[38;5;124m\"\u001b[39m\u001b[38;5;124mthis code will execute\u001b[39m\u001b[38;5;124m\"\u001b[39m)\n",
      "File \u001b[0;32m/opt/conda/lib/python3.10/site-packages/IPython/core/interactiveshell.py:282\u001b[0m, in \u001b[0;36m_modified_open\u001b[0;34m(file, *args, **kwargs)\u001b[0m\n\u001b[1;32m    275\u001b[0m \u001b[38;5;28;01mif\u001b[39;00m file \u001b[38;5;129;01min\u001b[39;00m {\u001b[38;5;241m0\u001b[39m, \u001b[38;5;241m1\u001b[39m, \u001b[38;5;241m2\u001b[39m}:\n\u001b[1;32m    276\u001b[0m     \u001b[38;5;28;01mraise\u001b[39;00m \u001b[38;5;167;01mValueError\u001b[39;00m(\n\u001b[1;32m    277\u001b[0m         \u001b[38;5;124mf\u001b[39m\u001b[38;5;124m\"\u001b[39m\u001b[38;5;124mIPython won\u001b[39m\u001b[38;5;124m'\u001b[39m\u001b[38;5;124mt let you open fd=\u001b[39m\u001b[38;5;132;01m{\u001b[39;00mfile\u001b[38;5;132;01m}\u001b[39;00m\u001b[38;5;124m by default \u001b[39m\u001b[38;5;124m\"\u001b[39m\n\u001b[1;32m    278\u001b[0m         \u001b[38;5;124m\"\u001b[39m\u001b[38;5;124mas it is likely to crash IPython. If you know what you are doing, \u001b[39m\u001b[38;5;124m\"\u001b[39m\n\u001b[1;32m    279\u001b[0m         \u001b[38;5;124m\"\u001b[39m\u001b[38;5;124myou can use builtins\u001b[39m\u001b[38;5;124m'\u001b[39m\u001b[38;5;124m open.\u001b[39m\u001b[38;5;124m\"\u001b[39m\n\u001b[1;32m    280\u001b[0m     )\n\u001b[0;32m--> 282\u001b[0m \u001b[38;5;28;01mreturn\u001b[39;00m \u001b[43mio_open\u001b[49m\u001b[43m(\u001b[49m\u001b[43mfile\u001b[49m\u001b[43m,\u001b[49m\u001b[43m \u001b[49m\u001b[38;5;241;43m*\u001b[39;49m\u001b[43margs\u001b[49m\u001b[43m,\u001b[49m\u001b[43m \u001b[49m\u001b[38;5;241;43m*\u001b[39;49m\u001b[38;5;241;43m*\u001b[39;49m\u001b[43mkwargs\u001b[49m\u001b[43m)\u001b[49m\n",
      "\u001b[0;31mFileNotFoundError\u001b[0m: [Errno 2] No such file or directory: 'nof.txt'"
     ]
    }
   ],
   "source": [
    "try:\n",
    "    f2=open(\"nof.txt\",'r')\n",
    "finally:\n",
    "    print(\"this code will execute\")"
   ]
  },
  {
   "cell_type": "markdown",
   "id": "1a4646fb-14de-4d59-a999-651b4796d2be",
   "metadata": {},
   "source": [
    "## c.raise\n",
    "\n",
    "raise keyword is used for custom exception handling. It calls the custom exception class."
   ]
  },
  {
   "cell_type": "code",
   "execution_count": 12,
   "id": "710aed29-0753-4a33-8349-483a8174fe60",
   "metadata": {},
   "outputs": [],
   "source": [
    "class validateage(Exception):\n",
    "    def __init__(self,msg):\n",
    "        self.msg=msg"
   ]
  },
  {
   "cell_type": "code",
   "execution_count": 15,
   "id": "e1a705c8-3b3e-4ed0-8cf2-904ee4d4eff4",
   "metadata": {},
   "outputs": [],
   "source": [
    "def validate_age(a):\n",
    "    if a>200:\n",
    "        raise validateage(\"age is too high\")\n",
    "    elif a<0:\n",
    "        raise validateage(\"age cannot be less than zero\")\n",
    "    else:\n",
    "        print(\"valid age\")"
   ]
  },
  {
   "cell_type": "code",
   "execution_count": 18,
   "id": "249f435b-af59-41b9-8c4c-c0a08cf6ebb9",
   "metadata": {},
   "outputs": [
    {
     "name": "stdin",
     "output_type": "stream",
     "text": [
      "enter the age: 45\n"
     ]
    },
    {
     "name": "stdout",
     "output_type": "stream",
     "text": [
      "valid age\n"
     ]
    }
   ],
   "source": [
    "try:\n",
    "    a=int(input(\"enter the age:\"))\n",
    "    validate_age(a)\n",
    "except Exception as e:\n",
    "    print(e)"
   ]
  },
  {
   "cell_type": "markdown",
   "id": "edfff9b3-50ff-4a07-9f39-d67930f4ae54",
   "metadata": {},
   "source": [
    "# 5.What are the custom exceptions in python ? Why do we need custom exceptions ? Explain with an example ?"
   ]
  },
  {
   "cell_type": "markdown",
   "id": "8b4734b8-e07e-4c36-9900-4e1807ec09f5",
   "metadata": {},
   "source": [
    " creating  own exceptions and raise explicitly for corresponding scenarios are known as custom exceptios.\n",
    " \n",
    " Built-in exceptions offer information about Python-related problems, and custom exceptions will add information about project-related problems. \n",
    " \n",
    " That way, you can design your code (and traceback, if an exception is raised) in a way that combines Python code with the language of the project."
   ]
  },
  {
   "cell_type": "code",
   "execution_count": 19,
   "id": "570b83e6-705a-4d14-9e2c-e1ebf9bb3b19",
   "metadata": {},
   "outputs": [],
   "source": [
    "class validateage(Exception):\n",
    "    def __init__(self,msg):\n",
    "        self.msg=msg"
   ]
  },
  {
   "cell_type": "code",
   "execution_count": 20,
   "id": "1df3cacd-2c27-4981-bb75-038e307fbb29",
   "metadata": {},
   "outputs": [],
   "source": [
    "def validate_age(a):\n",
    "    if a>200:\n",
    "        raise validateage(\"age is too high\")\n",
    "    elif a<0:\n",
    "        raise validateage(\"age cannot be less than zero\")\n",
    "    else:\n",
    "        print(\"valid age\")"
   ]
  },
  {
   "cell_type": "code",
   "execution_count": 21,
   "id": "6b9775ef-a492-45a3-9435-74a562f498f9",
   "metadata": {},
   "outputs": [
    {
     "name": "stdin",
     "output_type": "stream",
     "text": [
      "enter the age: 6\n"
     ]
    },
    {
     "name": "stdout",
     "output_type": "stream",
     "text": [
      "valid age\n"
     ]
    }
   ],
   "source": [
    "try:\n",
    "    a=int(input(\"enter the age:\"))\n",
    "    validate_age(a)\n",
    "except Exception as e:\n",
    "    print(e)"
   ]
  },
  {
   "cell_type": "markdown",
   "id": "1c810176-1b08-4a5b-8821-6f027a737bd9",
   "metadata": {},
   "source": [
    "# 6.Create custom exception class.Use this class to handle an exception ?"
   ]
  },
  {
   "cell_type": "code",
   "execution_count": 22,
   "id": "f0aa9663-3031-4e6f-a8c1-ac3c994fa38f",
   "metadata": {},
   "outputs": [],
   "source": [
    "class validplanet(Exception):\n",
    "    def __init__(self,msg):\n",
    "        self.msg=msg"
   ]
  },
  {
   "cell_type": "code",
   "execution_count": 23,
   "id": "fe73951d-6137-4fa0-b7ac-4f2b9c60617f",
   "metadata": {},
   "outputs": [],
   "source": [
    "def valid_planet(p):\n",
    "    if p!= \"earth\" or p!=\"mars\":\n",
    "        raise validplanet(\"enter only earth or mars\")\n",
    "    else:\n",
    "        print(p)"
   ]
  },
  {
   "cell_type": "code",
   "execution_count": null,
   "id": "8675e006-5409-4aad-a2a1-7521af26f213",
   "metadata": {},
   "outputs": [],
   "source": [
    "try:\n",
    "    p=input(\"enter planet name: \")\n",
    "    valid_planet(p)\n",
    "except Exception as e:\n",
    "    print(e)"
   ]
  }
 ],
 "metadata": {
  "kernelspec": {
   "display_name": "Python 3 (ipykernel)",
   "language": "python",
   "name": "python3"
  },
  "language_info": {
   "codemirror_mode": {
    "name": "ipython",
    "version": 3
   },
   "file_extension": ".py",
   "mimetype": "text/x-python",
   "name": "python",
   "nbconvert_exporter": "python",
   "pygments_lexer": "ipython3",
   "version": "3.10.8"
  }
 },
 "nbformat": 4,
 "nbformat_minor": 5
}
