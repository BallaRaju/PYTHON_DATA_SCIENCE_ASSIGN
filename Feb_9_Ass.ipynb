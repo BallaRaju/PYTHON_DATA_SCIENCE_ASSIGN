{
 "cells": [
  {
   "cell_type": "markdown",
   "id": "2607e93a-718d-4334-92d6-6b79267e851d",
   "metadata": {},
   "source": [
    "# Feb 9 ASSIGNMENT"
   ]
  },
  {
   "cell_type": "markdown",
   "id": "9a8db913-153b-4f68-9307-cba2c351752d",
   "metadata": {},
   "source": [
    "# Q1, Create a vehicle class with an init method having instance variables as name_of_vehicle, max_speed and average_of_vehicle.\n",
    "## ANSWER:--"
   ]
  },
  {
   "cell_type": "code",
   "execution_count": 1,
   "id": "3e25f803-3d5a-4ff7-b1f9-5cd4a953a7c3",
   "metadata": {},
   "outputs": [],
   "source": [
    "class vehical:\n",
    "    def __init__(self,name_of_vehicle,max_speed_of_vehical,average_speed_of_vehical):\n",
    "        self.name_of_vehicle=name_of_vehicle\n",
    "        self.max_speed_of_vehical=max_speed_of_vehical\n",
    "        self.average_speed_of_vehical=average_speed_of_vehical"
   ]
  },
  {
   "cell_type": "code",
   "execution_count": 6,
   "id": "e9300e7a-7dbb-4124-a28e-9fac8ea001ea",
   "metadata": {},
   "outputs": [],
   "source": [
    "vehical_obj=vehical(\"BMW\",200,50)"
   ]
  },
  {
   "cell_type": "code",
   "execution_count": 7,
   "id": "236ed856-2d0c-409d-9c18-fc786191d273",
   "metadata": {},
   "outputs": [
    {
     "data": {
      "text/plain": [
       "'BMW'"
      ]
     },
     "execution_count": 7,
     "metadata": {},
     "output_type": "execute_result"
    }
   ],
   "source": [
    "vehical_obj.name_of_vehicle"
   ]
  },
  {
   "cell_type": "code",
   "execution_count": 4,
   "id": "ab511491-9f3f-4457-8173-113e0bd2df51",
   "metadata": {},
   "outputs": [
    {
     "data": {
      "text/plain": [
       "200"
      ]
     },
     "execution_count": 4,
     "metadata": {},
     "output_type": "execute_result"
    }
   ],
   "source": [
    "vehical_obj.max_speed_of_vehical"
   ]
  },
  {
   "cell_type": "code",
   "execution_count": 5,
   "id": "99e31e4f-e3ab-47b5-bfd1-662bfc564d1c",
   "metadata": {},
   "outputs": [
    {
     "data": {
      "text/plain": [
       "50"
      ]
     },
     "execution_count": 5,
     "metadata": {},
     "output_type": "execute_result"
    }
   ],
   "source": [
    "vehical_obj.average_speed_of_vehical"
   ]
  },
  {
   "cell_type": "markdown",
   "id": "d5a14f01-cc83-4c5c-b8ae-a6f77f6fd363",
   "metadata": {},
   "source": [
    "# Q2. Create a child class car from the vehicle class created in Que 1, which will inherit the vehicle class.\n",
    "# Create a method named seating_capacity which takes capacity as an argument and returns the name of\n",
    "# the vehicle and its seating capacity."
   ]
  },
  {
   "cell_type": "code",
   "execution_count": 8,
   "id": "12510be9-a801-413e-aed4-38343755173e",
   "metadata": {},
   "outputs": [],
   "source": [
    "class car(vehical):\n",
    "    def seating_capacity(self,capacity):\n",
    "        return self.name_of_vehicle,capacity"
   ]
  },
  {
   "cell_type": "code",
   "execution_count": 11,
   "id": "237f2c24-6e80-4730-a9c2-8149f7fbeb5f",
   "metadata": {},
   "outputs": [],
   "source": [
    "obj_car=car(\"neo\",120,30)\n"
   ]
  },
  {
   "cell_type": "code",
   "execution_count": 14,
   "id": "e13d3b88-c756-4da0-845a-8fc3d5d1ab3b",
   "metadata": {},
   "outputs": [
    {
     "data": {
      "text/plain": [
       "('neo', 500)"
      ]
     },
     "execution_count": 14,
     "metadata": {},
     "output_type": "execute_result"
    }
   ],
   "source": [
    "# gives name of the vehical and its capacity as out put\n",
    "obj_car.seating_capacity(500)"
   ]
  },
  {
   "cell_type": "markdown",
   "id": "e82956ea-a4ae-41f3-96a9-fb7f8cb04296",
   "metadata": {},
   "source": [
    "# Q3. What is multiple inheritance? Write a python code to demonstrate multiple inheritance.\n",
    "## ANSWER:--\n",
    " multiple inheritance:- A process in which a single child class aquires properties from more than one parent classes"
   ]
  },
  {
   "cell_type": "code",
   "execution_count": 16,
   "id": "f41cdf30-765b-4a15-a505-9ddbf61549d4",
   "metadata": {},
   "outputs": [],
   "source": [
    "class parent1:\n",
    "    def test_parent1(self):\n",
    "        print(\"This is parent1 class\")\n",
    "class parent2:\n",
    "    def test_parent2(self):\n",
    "        print(\"This is parent2 class\")\n",
    "class child(parent1,parent2):\n",
    "    def test_child(self):\n",
    "        print(\"This is child class\")"
   ]
  },
  {
   "cell_type": "code",
   "execution_count": 17,
   "id": "cb37a64f-608d-40ea-9d03-855a6bf21b58",
   "metadata": {},
   "outputs": [],
   "source": [
    "child_obj=child()"
   ]
  },
  {
   "cell_type": "code",
   "execution_count": 18,
   "id": "ead587c5-c566-42f1-92ba-27e7c08f88f6",
   "metadata": {},
   "outputs": [
    {
     "name": "stdout",
     "output_type": "stream",
     "text": [
      "This is child class\n"
     ]
    }
   ],
   "source": [
    "child_obj.test_child()"
   ]
  },
  {
   "cell_type": "code",
   "execution_count": 19,
   "id": "43f87b48-f748-47bd-b98d-0e4c4b0fef98",
   "metadata": {},
   "outputs": [
    {
     "name": "stdout",
     "output_type": "stream",
     "text": [
      "This is parent1 class\n"
     ]
    }
   ],
   "source": [
    "child_obj.test_parent1()"
   ]
  },
  {
   "cell_type": "code",
   "execution_count": 20,
   "id": "2621932c-b0a0-4a58-aabf-42f84a29673c",
   "metadata": {},
   "outputs": [
    {
     "name": "stdout",
     "output_type": "stream",
     "text": [
      "This is parent2 class\n"
     ]
    }
   ],
   "source": [
    "child_obj.test_parent2()"
   ]
  },
  {
   "cell_type": "markdown",
   "id": "c2eef19b-9f7f-457f-8818-44a98c28e70c",
   "metadata": {},
   "source": [
    "# Q4. What are getter and setter in python? Create a class and create a getter and a setter method in this class.\n",
    "##  ANSWER:--\n",
    "\n",
    "Getter: A method that allows you to access an attribute in a given class. \n",
    "\n",
    "Setter: A method that allows you to set or mutate the value of an attribute in a class."
   ]
  },
  {
   "cell_type": "code",
   "execution_count": 21,
   "id": "30b94b38-a1e4-47b5-ac82-4377a8d8ac48",
   "metadata": {},
   "outputs": [],
   "source": [
    "class Person:\n",
    "    def __init__(self, name):\n",
    "        self._name = name\n",
    "        \n",
    "    @property\n",
    "    def name(self):\n",
    "        return self._name\n",
    "    \n",
    "    @name.setter\n",
    "    def name(self, new_name):\n",
    "        self._name = new_name\n"
   ]
  },
  {
   "cell_type": "code",
   "execution_count": 22,
   "id": "8e9fad39-f4dc-4fe7-9440-52ca7489b83e",
   "metadata": {},
   "outputs": [
    {
     "name": "stdout",
     "output_type": "stream",
     "text": [
      "Alice\n",
      "Bob\n"
     ]
    }
   ],
   "source": [
    "person = Person('Alice')\n",
    "print(person.name)  \n",
    "\n",
    "person.name = 'Bob'\n",
    "print(person.name)  \n"
   ]
  },
  {
   "cell_type": "markdown",
   "id": "9dcd8718-e07d-4af4-9e7d-ae8fc6007bcf",
   "metadata": {},
   "source": [
    "# Q5.What is method overriding in python? Write a python code to demonstrate method overriding.\n",
    "## ANSWER:-\n",
    "\n",
    "Method overriding in python:--\n",
    "In Python, method overriding is a feature of object-oriented programming that allows a subclass to provide a different implementation of a \n",
    "\n",
    "method that is already defined in its superclass. The method in the subclass must have the same name and arguments as the method in the\n",
    "\n",
    "superclass, but its implementation can be different."
   ]
  },
  {
   "cell_type": "code",
   "execution_count": 23,
   "id": "92a0b83e-9a00-4269-9857-0ee00b8463ff",
   "metadata": {},
   "outputs": [
    {
     "name": "stdout",
     "output_type": "stream",
     "text": [
      "The animal makes a sound.\n",
      "The dog barks.\n",
      "The cat meows.\n"
     ]
    }
   ],
   "source": [
    "class Animal:\n",
    "    def make_sound(self):\n",
    "        print(\"The animal makes a sound.\")\n",
    "\n",
    "class Dog(Animal):\n",
    "    def make_sound(self):\n",
    "        print(\"The dog barks.\")\n",
    "\n",
    "class Cat(Animal):\n",
    "    def make_sound(self):\n",
    "        print(\"The cat meows.\")\n",
    "\n",
    "# Creating objects of each class\n",
    "animal = Animal()\n",
    "dog = Dog()\n",
    "cat = Cat()\n",
    "\n",
    "# Calling the make_sound method on each object\n",
    "animal.make_sound() # Output: \"The animal makes a sound.\"\n",
    "dog.make_sound() # Output: \"The dog barks.\"\n",
    "cat.make_sound() # Output: \"The cat meows.\"\n"
   ]
  },
  {
   "cell_type": "code",
   "execution_count": null,
   "id": "6300ed57-dc40-4434-83dd-d175348ea474",
   "metadata": {},
   "outputs": [],
   "source": []
  }
 ],
 "metadata": {
  "kernelspec": {
   "display_name": "Python 3 (ipykernel)",
   "language": "python",
   "name": "python3"
  },
  "language_info": {
   "codemirror_mode": {
    "name": "ipython",
    "version": 3
   },
   "file_extension": ".py",
   "mimetype": "text/x-python",
   "name": "python",
   "nbconvert_exporter": "python",
   "pygments_lexer": "ipython3",
   "version": "3.10.8"
  }
 },
 "nbformat": 4,
 "nbformat_minor": 5
}
