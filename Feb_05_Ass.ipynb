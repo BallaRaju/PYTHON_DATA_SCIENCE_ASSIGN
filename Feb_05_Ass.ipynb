{
 "cells": [
  {
   "cell_type": "markdown",
   "id": "9f4a7a1a-2b2d-457d-a9e3-361889872f5b",
   "metadata": {},
   "source": [
    "# Q1. Explain Class and Object with respect to Object-Oriented Programming. Give a suitable example.\n",
    "## ANSWER:--\n",
    "CLASS:-- class in oops refers to blue print or classification of a real world object.\n",
    "OBJECT:--object is instance of a class\n",
    "EXAMPLES:--CAR,HUMAN BEING ,LAPTOP these were some examples of classes\n",
    "\n",
    "BMW,RAJU,HP 15S  these were some examples of objects\n",
    "                  "
   ]
  },
  {
   "cell_type": "markdown",
   "id": "11188201-bc47-4dee-bb1e-ed95799107b3",
   "metadata": {},
   "source": [
    "# Q2. Name the four pillars of OOPs.\n",
    "## ANSWER:--\n",
    "1.Polymorphism\n",
    "\n",
    "2.inheritance\n",
    "\n",
    "3.inheritance\n",
    "\n",
    "4.Abstraction"
   ]
  },
  {
   "cell_type": "markdown",
   "id": "085a5697-b86d-4214-97c8-2b1592cea09a",
   "metadata": {},
   "source": [
    "# Q3. Explain why the __init__() function is used. Give a suitable example.\n",
    "## ANSWER:-\n",
    "1.__init__() is used to define constructor which gives data to the class variables."
   ]
  },
  {
   "cell_type": "code",
   "execution_count": 3,
   "id": "3656ee2c-6a0e-41a8-a06f-b0d241d2358b",
   "metadata": {},
   "outputs": [],
   "source": [
    "#EXAMPLE\n",
    "class test:\n",
    "    def __init__(self,name,age):\n",
    "        self.name=name\n",
    "        self.age=age\n",
    "    def return_details(self):\n",
    "        return self.name,self.age"
   ]
  },
  {
   "cell_type": "code",
   "execution_count": 4,
   "id": "b188774e-fd38-40d9-aae0-73f92393131e",
   "metadata": {},
   "outputs": [
    {
     "data": {
      "text/plain": [
       "('raju', 18)"
      ]
     },
     "execution_count": 4,
     "metadata": {},
     "output_type": "execute_result"
    }
   ],
   "source": [
    "raju=test(\"raju\",18)\n",
    "raju.return_details()"
   ]
  },
  {
   "cell_type": "markdown",
   "id": "ad29262e-1eec-4884-916d-9a5bd7f7c08c",
   "metadata": {},
   "source": [
    "# Q4. Why self is used in OOPs?\n",
    "## ANSWER:--\n",
    "The self parameter is a reference to the current instance of the class, and is used to access variables that belongs to the class."
   ]
  },
  {
   "cell_type": "markdown",
   "id": "c54bcc38-fa49-444d-b9b1-74431319b1cd",
   "metadata": {},
   "source": [
    "# Q5. What is inheritance? Give an example for each type of inheritance.\n",
    "## ANSWER:--\n",
    "inheritance:-- The property of acquring properties and behavior of a class to another class.\n",
    "1.single inheritance \n",
    "2.multiple inheritance\n",
    "3.multilevel inheritance\n",
    "4.heirarchical inheritance\n",
    "5.hybrid inheritance"
   ]
  },
  {
   "cell_type": "code",
   "execution_count": null,
   "id": "460ce580-ea70-4af5-bdec-757660287aad",
   "metadata": {},
   "outputs": [],
   "source": []
  }
 ],
 "metadata": {
  "kernelspec": {
   "display_name": "Python 3 (ipykernel)",
   "language": "python",
   "name": "python3"
  },
  "language_info": {
   "codemirror_mode": {
    "name": "ipython",
    "version": 3
   },
   "file_extension": ".py",
   "mimetype": "text/x-python",
   "name": "python",
   "nbconvert_exporter": "python",
   "pygments_lexer": "ipython3",
   "version": "3.10.8"
  }
 },
 "nbformat": 4,
 "nbformat_minor": 5
}
