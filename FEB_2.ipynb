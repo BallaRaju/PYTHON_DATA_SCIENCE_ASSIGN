{
 "cells": [
  {
   "cell_type": "markdown",
   "id": "bc28e461-afb9-4483-b7a0-7bfef6fa5128",
   "metadata": {},
   "source": [
    "# 1.What are the characteristics of tuples ? is python tuple immutable ?\n",
    "## ANSWER:--\n",
    " No Python tuple was not immutable.\n",
    " Because we cannot assign new values to the already existing tuple objects\n",
    " characteristics of python tuples:-\n",
    "Python tuples are immutable sequences of values, meaning once created, the elements of a tuple cannot be changed. Some of the key characteristics of Python tuples are.\n",
    "\n",
    "1.Ordered: The elements of a tuple are ordered, which means that the order in which the elements are entered is preserved.\n",
    "\n",
    "2.Immutable: Tuples are immutable, which means that once created, you cannot add, remove, or modify the elements of a tuple.\n",
    "\n",
    "3.Heterogeneous: Tuples can hold elements of different data types, such as integers, floats, strings, etc.\n",
    "\n",
    "4.Indexed: Each element of a tuple can be accessed using an index number, just like a list.\n",
    "\n",
    "5.Faster than lists: Tuples are faster than lists when it comes to iteration and accessing elements, due to their fixed size and immutability."
   ]
  },
  {
   "cell_type": "code",
   "execution_count": null,
   "id": "4ccbb286-e903-486b-b2d5-8e8c141ace0b",
   "metadata": {},
   "outputs": [],
   "source": []
  },
  {
   "cell_type": "markdown",
   "id": "ee57e0ce-9dae-4be0-a288-0feee89082f6",
   "metadata": {},
   "source": [
    "# Q2. What are the two tuple methods in python? Give an example of each method. Give a reason why tuples have only two in-built methods as compared to Lists.\n",
    "## ANSWER:--\n",
    "Two tuple methods in python were 1.count() 2.index().\n",
    "\n",
    "1.count(): The count() method is used to count the number of occurrences of a specified element in a tuple.\n",
    "\n",
    "It takes a single argument, which is the element to be counted, and returns the number of times it appears in the tuple.\n",
    "\n",
    "2.index(): The index() method is used to find the index of the first occurrence of a specified element in a tuple.\n",
    "\n",
    "It takes a single argument, which is the element to be searched, and returns the index of the first occurrence of that element.\n",
    "\n",
    "###### Tuples in Python are immutable, which means that once they are created, their contents cannot be changed. \n",
    "\n",
    "###### Therefore, it is not necessary to have many methods for modifying tuples, unlike mutable data types such as lists, which have many methods to add, remove, and modify elements."
   ]
  },
  {
   "cell_type": "code",
   "execution_count": 1,
   "id": "4196f0e4-9099-43eb-99e0-fd32d7a12133",
   "metadata": {},
   "outputs": [
    {
     "name": "stdout",
     "output_type": "stream",
     "text": [
      "2\n",
      "1\n"
     ]
    }
   ],
   "source": [
    "#example for count()\n",
    "t=(1,2,3,3.3,\"raju\",True)\n",
    "print(t.count(1))\n",
    "print(t.count(\"raju\"))"
   ]
  },
  {
   "cell_type": "code",
   "execution_count": 2,
   "id": "3ec78492-4d6d-4172-a1c3-52d8cd8df0ec",
   "metadata": {},
   "outputs": [
    {
     "name": "stdout",
     "output_type": "stream",
     "text": [
      "4\n"
     ]
    }
   ],
   "source": [
    "# example for index()\n",
    "print(t.index(\"raju\"))"
   ]
  },
  {
   "cell_type": "markdown",
   "id": "f00bcc47-94a7-4ec5-9f53-016a10980985",
   "metadata": {},
   "source": [
    "# Q3. Which collection datatypes in python do not allow duplicate items? Write a code using a set to remove duplicates from the given list.\n",
    "## ANSWER:-\n",
    "\n",
    "The collection datatype in Python that does not allow duplicate items is a set.\n",
    "\n"
   ]
  },
  {
   "cell_type": "code",
   "execution_count": 4,
   "id": "e03627a3-3786-4326-a5fc-9d70b8b972b2",
   "metadata": {},
   "outputs": [
    {
     "name": "stdout",
     "output_type": "stream",
     "text": [
      "{1, 2, 3, 4}\n"
     ]
    }
   ],
   "source": [
    "#Code for removing duplicates from the given list using list\n",
    "# List = [1, 1, 1, 2, 1, 3, 1, 4, 2, 1, 2, 2, 2, 3, 2, 4, 3, 1, 3, 2, 3, 3, 3, 4, 4, 1, 4, 2, 4, 3, 4, 4]\n",
    "\n",
    "List = [1, 1, 1, 2, 1, 3, 1, 4, 2, 1, 2, 2, 2, 3, 2, 4, 3, 1, 3, 2, 3, 3, 3, 4, 4, 1, 4, 2, 4, 3, 4, 4]\n",
    "s1 = set(List)\n",
    "print(s1)\n",
    "#duplicates were removed\n"
   ]
  },
  {
   "cell_type": "markdown",
   "id": "3e7865b7-f8ba-4d88-b2d5-33e5516b52ca",
   "metadata": {},
   "source": [
    "# Q4. Explain the difference between the union() and update() methods for a set. Give an example of each method.\n",
    "## ANSWER:--\n",
    "1.union(): The union() method returns a new set that contains all the unique elements from all the sets that were passed to it. \n",
    "\n",
    "The original sets are not modified.\n",
    "\n",
    "2.update(): The update() method modifies the set on which it is called by adding all the unique elements from one or more sets to it."
   ]
  },
  {
   "cell_type": "code",
   "execution_count": 5,
   "id": "f4e862b2-0209-4033-a63d-df797be50449",
   "metadata": {},
   "outputs": [
    {
     "name": "stdout",
     "output_type": "stream",
     "text": [
      "{1, 2, 3, 4, 5}\n",
      "{1, 2, 3}\n",
      "{3, 4, 5}\n"
     ]
    }
   ],
   "source": [
    "# union example\n",
    "set1 = {1, 2, 3}\n",
    "set2 = {3, 4, 5}\n",
    "set3 = set1.union(set2)\n",
    "\n",
    "print(set3)  # Output: {1, 2, 3, 4, 5}\n",
    "print(set1)  # Output: {1, 2, 3}\n",
    "print(set2)  # Output: {3, 4, 5}\n"
   ]
  },
  {
   "cell_type": "code",
   "execution_count": 6,
   "id": "349ff073-b751-4c19-b293-27891a3f278b",
   "metadata": {},
   "outputs": [
    {
     "name": "stdout",
     "output_type": "stream",
     "text": [
      "{1, 2, 3, 4, 5}\n",
      "{3, 4, 5}\n"
     ]
    }
   ],
   "source": [
    "# update example\n",
    "set1 = {1, 2, 3}\n",
    "set2 = {3, 4, 5}\n",
    "set1.update(set2)\n",
    "\n",
    "print(set1)  # Output: {1, 2, 3, 4, 5}\n",
    "print(set2)  # Output: {3, 4, 5}\n"
   ]
  },
  {
   "cell_type": "markdown",
   "id": "d36dbffa-1819-4794-a4d0-371847cc4092",
   "metadata": {},
   "source": [
    "# Q5. What is a dictionary? Give an example. Also, state whether a dictionary is ordered or unordered.\n",
    "## ANSWER:--\n",
    "\n",
    "In Python, a dictionary is a collection of key-value pairs, where each key is associated with a value. \n",
    "\n",
    "Dictionaries are mutable, which means that they can be modified after they are created. \n",
    "\n",
    "Keys in a dictionary must be unique and immutable, such as strings, numbers, or tuples. \n",
    "\n",
    "Values in a dictionary can be of any type, including other dictionaries.\n",
    "\n",
    "Dictionaries in Python are unordered, which means that the order of the key-value pairs is not guaranteed. However, starting from Python 3.7, dictionaries are guaranteed to maintain the order in which they were inserted. \n",
    "\n",
    "Therefore, for Python 3.7 and later versions, dictionaries can be considered ordered."
   ]
  },
  {
   "cell_type": "code",
   "execution_count": 7,
   "id": "f3b1b2d1-086e-4d04-972b-7c6a66909024",
   "metadata": {},
   "outputs": [
    {
     "data": {
      "text/plain": [
       "{'name': 'John', 'age': 20, 'major': 'Computer Science', 'GPA': 3.5}"
      ]
     },
     "execution_count": 7,
     "metadata": {},
     "output_type": "execute_result"
    }
   ],
   "source": [
    "# EXAMPLE FOR PYTHON DICTIONARY\n",
    "student = {\n",
    "    \"name\": \"John\",\n",
    "    \"age\": 20,\n",
    "    \"major\": \"Computer Science\",\n",
    "    \"GPA\": 3.5\n",
    "}\n",
    "student"
   ]
  },
  {
   "cell_type": "markdown",
   "id": "cf333784-a86e-40c6-959f-9ad517d3bb27",
   "metadata": {},
   "source": [
    "# Q6. Can we create a nested dictionary? If so, please give an example by creating a simple one-level nested dictionary.\n",
    "## ANSWER:--\n",
    "\n",
    "YES ! ofcourse we can create nested dictionary\n"
   ]
  },
  {
   "cell_type": "code",
   "execution_count": 8,
   "id": "ad96a0b0-7fd6-4ec4-9575-ada335d227cd",
   "metadata": {},
   "outputs": [
    {
     "data": {
      "text/plain": [
       "{1: 'raju', 2: 'bheem', 3: {'director': 'rajamouli'}}"
      ]
     },
     "execution_count": 8,
     "metadata": {},
     "output_type": "execute_result"
    }
   ],
   "source": [
    "# EXAMPLE SHOWING ONE LEVEL NESTED DICTIONARY\n",
    "D = {1:\"raju\",2:\"bheem\",3:{\"director\":\"rajamouli\"}}\n",
    "D"
   ]
  },
  {
   "cell_type": "markdown",
   "id": "30956859-cfe4-49e8-87eb-0f9e8f42bf56",
   "metadata": {},
   "source": [
    "# Q7. Using setdefault() method, create key named topics in the given dictionary and also add the value of the key as this list ['Python', 'Machine  Learning’, 'Deep Learning'] dict1 = {'language' : 'Python', 'course': 'Data Science Masters'}\n",
    "\n",
    "# ANSWER:--\n",
    "Here's an example code snippet that shows how to use the setdefault() method to create a new key named \n",
    "\n",
    "topics with the value ['Python', 'Machine Learning’, 'Deep Learning'] in the given dictionary dict1:\n",
    "\n",
    "python"
   ]
  },
  {
   "cell_type": "code",
   "execution_count": 13,
   "id": "5c811ca2-0175-4fe3-8b4a-d4b33f19f98b",
   "metadata": {},
   "outputs": [
    {
     "name": "stdout",
     "output_type": "stream",
     "text": [
      "{'language': 'Python', 'course': 'Data Science Masters', 'topics': ['Python', 'Machine Learning', 'Deep Learning']}\n"
     ]
    }
   ],
   "source": [
    "# Original dictionary\n",
    "dict1 = {'language' : 'Python', 'course': 'Data Science Masters'}\n",
    "\n",
    "# Using setdefault() to create a new key named 'topics'\n",
    "# and set its value to ['Python', 'Machine Learning', 'Deep Learning']\n",
    "dict1.setdefault(\"topics\", ['Python', 'Machine Learning', 'Deep Learning'])\n",
    "\n",
    "# Output the updated dictionary\n",
    "print(dict1)\n",
    "\n"
   ]
  },
  {
   "cell_type": "markdown",
   "id": "008a2656-d4d9-4e61-9820-f2a701a752e5",
   "metadata": {},
   "source": [
    "#   Q8. What are the three view objects in dictionaries? Use the three in-built methods in python to display these three view objects for the given\n",
    "\n",
    "# dictionary.  dict1 = {'Sport': 'Cricket' , 'Teams': ['India', 'Australia', 'England', 'South Africa', 'Sri Lanka', 'New Zealand']}\n",
    "## ANSWER:--\n",
    "In Python, dictionaries have three view objects that allow us to access different views of the keys, values, and key-value pairs in the dictionary. \n",
    "\n",
    "These view objects are:\n",
    "\n",
    "1.dict_keys: A view object that contains the keys of the dictionary.\n",
    "\n",
    "2.dict_values: A view object that contains the values of the dictionary.\n",
    "\n",
    "3.dict_items: A view object that contains the key-value pairs of the dictionary.\n",
    "\n",
    "Here's an example code snippet that shows how to use the three built-in methods keys(), values(), and items() to display these three view objects for\n",
    "\n",
    "the given dictionary dict1:"
   ]
  },
  {
   "cell_type": "code",
   "execution_count": 12,
   "id": "45ebf214-7367-47af-acb0-73d9fef944ce",
   "metadata": {},
   "outputs": [
    {
     "name": "stdout",
     "output_type": "stream",
     "text": [
      "Keys view object: dict_keys(['Sport', 'Teams'])\n",
      "Values view object: dict_values(['Cricket', ['India', 'Australia', 'England', 'South Africa', 'Sri Lanka', 'New Zealand']])\n",
      "Items view object: dict_items([('Sport', 'Cricket'), ('Teams', ['India', 'Australia', 'England', 'South Africa', 'Sri Lanka', 'New Zealand'])])\n"
     ]
    }
   ],
   "source": [
    "# Original dictionary\n",
    "dict1 = {'Sport': 'Cricket' , 'Teams': ['India', 'Australia', 'England', 'South Africa', 'Sri Lanka', 'New Zealand']}\n",
    "\n",
    "# Get the view object for the keys using the keys() method\n",
    "keys_view = dict1.keys()\n",
    "print(\"Keys view object:\", keys_view)\n",
    "\n",
    "# Get the view object for the values using the values() method\n",
    "values_view = dict1.values()\n",
    "print(\"Values view object:\", values_view)\n",
    "\n",
    "# Get the view object for the key-value pairs using the items() method\n",
    "items_view = dict1.items()\n",
    "print(\"Items view object:\", items_view)\n"
   ]
  },
  {
   "cell_type": "code",
   "execution_count": null,
   "id": "712d96a1-c694-451e-b0c0-3578d1b00764",
   "metadata": {},
   "outputs": [],
   "source": []
  }
 ],
 "metadata": {
  "kernelspec": {
   "display_name": "Python 3 (ipykernel)",
   "language": "python",
   "name": "python3"
  },
  "language_info": {
   "codemirror_mode": {
    "name": "ipython",
    "version": 3
   },
   "file_extension": ".py",
   "mimetype": "text/x-python",
   "name": "python",
   "nbconvert_exporter": "python",
   "pygments_lexer": "ipython3",
   "version": "3.10.8"
  }
 },
 "nbformat": 4,
 "nbformat_minor": 5
}
