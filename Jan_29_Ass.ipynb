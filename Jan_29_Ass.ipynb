{
 "cells": [
  {
   "cell_type": "markdown",
   "id": "282bb94c-2d02-4441-a5cd-57772dc329c2",
   "metadata": {},
   "source": [
    "# 29 JANUARY ASSIGNMENT"
   ]
  },
  {
   "cell_type": "markdown",
   "id": "a1f05348-9a01-4afb-8c23-a3e9cf7f3e0b",
   "metadata": {},
   "source": [
    "# 1.Who developed python programming language ?\n",
    "## ANSWER:--\n",
    "Guido van Rossum developed python programming language in 1989."
   ]
  },
  {
   "cell_type": "markdown",
   "id": "a3d3c01f-d9f0-41c7-9464-a17a426df6b4",
   "metadata": {},
   "source": [
    "# 2.Which type of programming did python support?\n",
    "## ANSWER:---\n",
    "Dynamic programming\n",
    "\n",
    "and also it was both object oriented and procedure oriented programming "
   ]
  },
  {
   "cell_type": "markdown",
   "id": "32714ea7-0cc7-4011-98c1-5ce5d59d2d29",
   "metadata": {},
   "source": [
    "# 3.is Python case sensitive while dealing with identifiers ?\n",
    "## ANSWER:--\n",
    "No it is not case sensitive "
   ]
  },
  {
   "cell_type": "code",
   "execution_count": 1,
   "id": "8eca99b1-2ff1-4d8e-9161-4ff9a2ade9f9",
   "metadata": {},
   "outputs": [],
   "source": [
    "name=\"santha\""
   ]
  },
  {
   "cell_type": "code",
   "execution_count": 4,
   "id": "289e4371-35a5-475a-b69c-a2458c604974",
   "metadata": {},
   "outputs": [],
   "source": [
    "Name=\"raju\""
   ]
  },
  {
   "cell_type": "code",
   "execution_count": 5,
   "id": "4884e59f-9d8c-42ab-a148-d950659801d5",
   "metadata": {},
   "outputs": [
    {
     "name": "stdout",
     "output_type": "stream",
     "text": [
      "santha raju\n"
     ]
    }
   ],
   "source": [
    "print(name,Name)"
   ]
  },
  {
   "cell_type": "markdown",
   "id": "35856182-6312-4f30-ba16-bcbeedbe8a05",
   "metadata": {},
   "source": [
    "# 4.What is the correct extension of python file?\n",
    "## ANSWER:-\n",
    "The correct extension of python file is .py"
   ]
  },
  {
   "cell_type": "markdown",
   "id": "2b49a05c-a560-487c-8ced-57b5f265cd22",
   "metadata": {},
   "source": [
    "# 5.is python code compiled or interpreted ?\n",
    "## ANSWER:--\n",
    "Python code was interpreted not compiled."
   ]
  },
  {
   "cell_type": "markdown",
   "id": "9fee5b29-2f63-4127-9209-d1ea1ee46d60",
   "metadata": {},
   "source": [
    "# 6.Name some blocks of code used to define in python language ?\n",
    "## ANSWER:--\n",
    "The following are blocks: \n",
    "\n",
    "a module, a function body,\n",
    "\n",
    "and a class definition. \n",
    "\n",
    "Each command typed interactively is a block."
   ]
  },
  {
   "cell_type": "markdown",
   "id": "6fff5050-17f7-40a1-aba4-e385dab4a4db",
   "metadata": {},
   "source": [
    "# 7.State a character used to give single lin comments in python ?\n",
    "## ANSWER:--\n",
    "Single # character is used to give single lin comments in python"
   ]
  },
  {
   "cell_type": "markdown",
   "id": "18259658-c688-4d6d-9908-f2ad5ea70c44",
   "metadata": {},
   "source": [
    "# 8.Mention the function which can help us to find the version of python that we currently working on ?\n",
    "### ANSWER:---"
   ]
  },
  {
   "cell_type": "code",
   "execution_count": 12,
   "id": "4ccb4a34-ba27-4300-854a-9af8af6a5119",
   "metadata": {},
   "outputs": [
    {
     "name": "stdout",
     "output_type": "stream",
     "text": [
      "User Current Version:- 3.10.8 | packaged by conda-forge | (main, Nov 22 2022, 08:26:04) [GCC 10.4.0]\n"
     ]
    }
   ],
   "source": [
    "import sys\n",
    "print(\"User Current Version:-\", sys.version)\n"
   ]
  },
  {
   "cell_type": "markdown",
   "id": "c546cbcc-d8fd-4a87-8cc3-b0b1702072a8",
   "metadata": {},
   "source": [
    "# 9.python supports the creation of anonymous functions at runtime ,using a construct called ________?\n",
    "## ANSWER:--\n",
    "Python supports the creation of anonymous functions (i.e. functions that are not bound to a name) at runtime, using a construct called lambda."
   ]
  },
  {
   "cell_type": "markdown",
   "id": "0ceda682-2b9e-415c-ab4c-0316716a6a2a",
   "metadata": {},
   "source": [
    "# 10.What does pip stand for in python ?\n",
    "## ANSWER:--\n",
    " PIP is a recursive acronym for “Preferred Installer Program” or PIP Installs Packages. \n",
    " \n",
    " It is a command-line utility that installs, reinstalls,\n",
    " \n",
    "Install: Install packages\n",
    "\n",
    "Check: Verify installed packages have compation\n",
    "\n",
    "Download: Download packages\n",
    "\n",
    "Search: Search PyPI for packages"
   ]
  },
  {
   "cell_type": "markdown",
   "id": "7d67edbf-74a9-4fef-86bf-c0a1182201e2",
   "metadata": {},
   "source": [
    "# 11.Mention a few built in functions in python ?\n",
    "## ANSWER:--\n",
    "1.len()\n",
    "\n",
    "2.print()\n",
    "\n",
    "3.input()\n",
    "\n",
    "4.bin()"
   ]
  },
  {
   "cell_type": "markdown",
   "id": "38b4d94c-3b53-4ac2-9047-09f46b723f5c",
   "metadata": {},
   "source": [
    "# 12.What is the maximum possible length of an identifier in python ?\n",
    "## ANSWER:--\n",
    "An identifier can have a maximum length of 79 characters in Python"
   ]
  },
  {
   "cell_type": "markdown",
   "id": "8e2190ce-c238-4635-98d3-afb4a613ef0d",
   "metadata": {},
   "source": [
    "# 13.What are the benefits of using python ?\n",
    "## ANSWER:---\n",
    "Data science.\n",
    "\n",
    "Scientific and mathematical computing.\n",
    "\n",
    "Web development.\n",
    "\n",
    "Finance and trading.\n",
    "\n",
    "System automation and administration.\n",
    "\n",
    "Computer graphics.\n",
    "\n",
    "Basic game development.\n",
    "\n",
    "Security and penetration testing."
   ]
  },
  {
   "cell_type": "markdown",
   "id": "218192b7-d96c-45cb-827b-9e5def5f0e39",
   "metadata": {},
   "source": [
    "# 14.How is memory is managed in python ?\n",
    "## ANSWER:---\n",
    " The management of this private heap is ensured internally by the Python memory manager."
   ]
  },
  {
   "cell_type": "markdown",
   "id": "02d06056-43e2-4e61-b9a6-6636ddcbad99",
   "metadata": {},
   "source": [
    "# 15.How to install Python on Windows and set path variables ?\n",
    "## ANSWER:--\n",
    "In the section entitled User Variables, double-click on the entry that says Path. Another window will pop up showing a list of paths.\n",
    "\n",
    "Click the New button and paste the path to your Python executable there. \n",
    "\n",
    "Once that's inserted, select your newly added path and click the Move Up button until it's at the top.\n"
   ]
  },
  {
   "cell_type": "markdown",
   "id": "7fc72eb9-d571-461b-aa60-6e3b11ee57ae",
   "metadata": {},
   "source": [
    "# 16.is indentation required in python ?\n",
    "## ANSWER:--\n",
    "  YES"
   ]
  },
  {
   "cell_type": "code",
   "execution_count": null,
   "id": "2db5162f-23a1-4f48-9a78-16eadfde1678",
   "metadata": {},
   "outputs": [],
   "source": []
  }
 ],
 "metadata": {
  "kernelspec": {
   "display_name": "Python 3 (ipykernel)",
   "language": "python",
   "name": "python3"
  },
  "language_info": {
   "codemirror_mode": {
    "name": "ipython",
    "version": 3
   },
   "file_extension": ".py",
   "mimetype": "text/x-python",
   "name": "python",
   "nbconvert_exporter": "python",
   "pygments_lexer": "ipython3",
   "version": "3.10.8"
  }
 },
 "nbformat": 4,
 "nbformat_minor": 5
}
