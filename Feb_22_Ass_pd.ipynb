{
 "cells": [
  {
   "cell_type": "markdown",
   "id": "8bccfa29-5514-41d4-83b3-6acf03eaf8ca",
   "metadata": {},
   "source": [
    "# 22 feb assignment pandas"
   ]
  },
  {
   "cell_type": "markdown",
   "id": "74704326-e521-43fc-8b03-55e7c5b52c13",
   "metadata": {},
   "source": [
    "## Q1. Create a Pandas Series that contains the following data: 4, 8, 15, 16, 23, and 42. Then, print the series."
   ]
  },
  {
   "cell_type": "code",
   "execution_count": 1,
   "id": "ceaf16f1-4302-4c7f-9e4c-d49bdad5c4a4",
   "metadata": {},
   "outputs": [
    {
     "name": "stdout",
     "output_type": "stream",
     "text": [
      "0     4\n",
      "1     8\n",
      "2    15\n",
      "3    16\n",
      "4    23\n",
      "5    42\n",
      "dtype: int64\n"
     ]
    }
   ],
   "source": [
    "import pandas as pd\n",
    "data=[4,8,15,16,23,42]\n",
    "series=pd.Series(data)\n",
    "print(series)"
   ]
  },
  {
   "cell_type": "markdown",
   "id": "afb7b690-d96f-4250-ab8c-15e655e15b95",
   "metadata": {},
   "source": [
    "## Q2. Create a variable of list type containing 10 elements in it, and apply pandas.Series function on thevariable print it."
   ]
  },
  {
   "cell_type": "code",
   "execution_count": 3,
   "id": "75605322-a8c8-4594-98ff-6e70e0c768d2",
   "metadata": {},
   "outputs": [
    {
     "name": "stdout",
     "output_type": "stream",
     "text": [
      "0    11\n",
      "1    12\n",
      "2    13\n",
      "3    14\n",
      "4    15\n",
      "5    16\n",
      "6    17\n",
      "7    18\n",
      "8    19\n",
      "9    20\n",
      "dtype: int64\n"
     ]
    }
   ],
   "source": [
    "List=[11,12,13,14,15,16,17,18,19,20]\n",
    "series2=pd.Series(List)\n",
    "print(series2)"
   ]
  },
  {
   "cell_type": "markdown",
   "id": "7963ebc6-a853-410e-a9f6-0f444c051f16",
   "metadata": {},
   "source": [
    "## Q3. Create a Pandas DataFrame that contains the following data:"
   ]
  },
  {
   "cell_type": "code",
   "execution_count": 4,
   "id": "575ad006-401e-45d2-8221-1916279e857e",
   "metadata": {},
   "outputs": [
    {
     "name": "stdout",
     "output_type": "stream",
     "text": [
      "     Name  Age  Gender\n",
      "0   Alice   25  Female\n",
      "1     Bob   30    Male\n",
      "2  Claire   27  Female\n"
     ]
    }
   ],
   "source": [
    "data={\"Name\":[\"Alice\",\"Bob\",\"Claire\"],\n",
    "     \"Age\":[25,30,27],\n",
    "     \"Gender\":[\"Female\",\"Male\",\"Female\"]}\n",
    "df=pd.DataFrame(data)\n",
    "print(df)"
   ]
  },
  {
   "cell_type": "markdown",
   "id": "06f31d9b-009a-4372-a020-5b6f4a5f0684",
   "metadata": {},
   "source": [
    "## Q4. What is ‘DataFrame’ in pandas and how is it different from pandas.series? Explain with an example.\n"
   ]
  },
  {
   "cell_type": "markdown",
   "id": "bda91ade-fc1f-42bc-8ccd-c6b741ba2172",
   "metadata": {},
   "source": [
    "A DataFrame in Pandas is a two-dimensional labeled data structure with columns of potentially different types.\n",
    "\n",
    "It is similar to a spreadsheet or a SQL table. In a DataFrame, each column can be considered as a Series object.\n",
    "\n",
    "A Series, on the other hand, is a one-dimensional labeled array that can hold any data type such as integers, strings, or floating-point \n",
    "\n",
    "numbers. Each element in a Series has a label called an index.\n",
    "\n",
    "The main difference between a DataFrame and a Series is that a DataFrame can contain multiple Series objects as columns, while a Series \n",
    "\n",
    "represents a single column or row of data. In other words, a DataFrame is a collection of Series objects arranged in a tabular fashion.\n",
    "\n",
    "Here's an example that demonstrates the difference between a DataFrame and a Series:"
   ]
  },
  {
   "cell_type": "code",
   "execution_count": 5,
   "id": "d42f0021-9265-4f5f-9538-87154c4429c8",
   "metadata": {},
   "outputs": [
    {
     "name": "stdout",
     "output_type": "stream",
     "text": [
      "DataFrame:\n",
      "      name  age    country\n",
      "0    Alice   25        USA\n",
      "1      Bob   30     Canada\n",
      "2  Charlie   35         UK\n",
      "3    David   40  Australia\n",
      "\n",
      "Series:\n",
      "0    1\n",
      "1    2\n",
      "2    3\n",
      "3    4\n",
      "dtype: int64\n"
     ]
    }
   ],
   "source": [
    "import pandas as pd\n",
    "\n",
    "# Creating a DataFrame\n",
    "data = {\n",
    "    'name': ['Alice', 'Bob', 'Charlie', 'David'],\n",
    "    'age': [25, 30, 35, 40],\n",
    "    'country': ['USA', 'Canada', 'UK', 'Australia']\n",
    "}\n",
    "df = pd.DataFrame(data)\n",
    "\n",
    "# Creating a Series\n",
    "s = pd.Series([1, 2, 3, 4])\n",
    "\n",
    "# Printing the DataFrame and Series\n",
    "print('DataFrame:')\n",
    "print(df)\n",
    "print('\\nSeries:')\n",
    "print(s)\n"
   ]
  },
  {
   "cell_type": "markdown",
   "id": "0a617535-5a07-4a24-a4e3-abaee517a130",
   "metadata": {},
   "source": [
    "## Q5. What are some common functions you can use to manipulate data in a Pandas DataFrame? Canyou give an example of when you might use one of these functions?"
   ]
  },
  {
   "cell_type": "code",
   "execution_count": 6,
   "id": "d9df1431-c0fb-4a36-b7d4-449508eef9bc",
   "metadata": {},
   "outputs": [
    {
     "name": "stdout",
     "output_type": "stream",
     "text": [
      "    Name  Age Country\n",
      "0  Alice   25     USA\n",
      "1    Bob   30  Canada\n",
      "      Name  Age    Country\n",
      "2  Charlie   35         UK\n",
      "3    David   40  Australia\n",
      "4    Emily   45        USA\n"
     ]
    }
   ],
   "source": [
    "# head() and tail(): Used to display the first or last n rows of a DataFrame, respectively. For example:\n",
    "import pandas as pd\n",
    "\n",
    "# create a DataFrame\n",
    "data = {'Name': ['Alice', 'Bob', 'Charlie', 'David', 'Emily'],\n",
    "        'Age': [25, 30, 35, 40, 45],\n",
    "        'Country': ['USA', 'Canada', 'UK', 'Australia', 'USA']}\n",
    "df = pd.DataFrame(data)\n",
    "\n",
    "# display the first two rows of the DataFrame\n",
    "print(df.head(2))\n",
    "\n",
    "# display the last three rows of the DataFrame\n",
    "print(df.tail(3))\n"
   ]
  },
  {
   "cell_type": "code",
   "execution_count": 7,
   "id": "67202f82-d2ab-42a9-9b53-32a41c39597c",
   "metadata": {},
   "outputs": [
    {
     "name": "stdout",
     "output_type": "stream",
     "text": [
      "Country\n",
      "Australia    40.0\n",
      "Canada       30.0\n",
      "UK           35.0\n",
      "USA          35.0\n",
      "Name: Age, dtype: float64\n"
     ]
    }
   ],
   "source": [
    "# groupby(): Used to group the DataFrame by one or more columns and apply a function to each group. For example:\n",
    "# group the DataFrame by Country and calculate the mean age for each group\n",
    "df_grouped = df.groupby('Country')['Age'].mean()\n",
    "print(df_grouped)\n"
   ]
  },
  {
   "cell_type": "markdown",
   "id": "8b45552e-b7ef-4a05-b72b-7bbf940a0fec",
   "metadata": {},
   "source": [
    "## Q6. Which of the following is mutable in nature Series, DataFrame, Panel?"
   ]
  },
  {
   "cell_type": "markdown",
   "id": "093c5819-28a5-4209-a865-75392f05eaae",
   "metadata": {},
   "source": [
    "In Pandas, Series and DataFrame are mutable in nature, whereas Panel is deprecated and considered immutable.\n",
    "\n",
    "When we say that a data structure is mutable, it means that the data in the structure can be changed or modified. For example, you can add\n",
    "\n",
    "or remove elements from a mutable data structure.\n",
    "\n",
    "In the case of Series, you can modify individual elements in the Series using indexing, and you can also add or remove elements from the \n",
    "\n",
    "\n",
    "\n"
   ]
  },
  {
   "cell_type": "code",
   "execution_count": null,
   "id": "d96e4326-3bda-4285-921a-45ceb0250064",
   "metadata": {},
   "outputs": [],
   "source": []
  }
 ],
 "metadata": {
  "kernelspec": {
   "display_name": "Python 3 (ipykernel)",
   "language": "python",
   "name": "python3"
  },
  "language_info": {
   "codemirror_mode": {
    "name": "ipython",
    "version": 3
   },
   "file_extension": ".py",
   "mimetype": "text/x-python",
   "name": "python",
   "nbconvert_exporter": "python",
   "pygments_lexer": "ipython3",
   "version": "3.10.8"
  }
 },
 "nbformat": 4,
 "nbformat_minor": 5
}
