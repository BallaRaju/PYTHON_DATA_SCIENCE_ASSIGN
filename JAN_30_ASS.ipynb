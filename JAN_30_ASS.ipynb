{
 "cells": [
  {
   "cell_type": "markdown",
   "id": "84f7ab46-3a4c-417f-8fbc-ba2eebba0473",
   "metadata": {},
   "source": [
    "# JANUARY 30 ASSIGNMENT"
   ]
  },
  {
   "cell_type": "markdown",
   "id": "2b64613c-04af-49c7-aefd-eae7de8e09bd",
   "metadata": {},
   "source": [
    "# 1.PROGRAM FOR GIVEN DATA RESULTING GRADE :"
   ]
  },
  {
   "cell_type": "code",
   "execution_count": 1,
   "id": "9e39117d-bf3a-4fa2-a1b7-3456ae89e555",
   "metadata": {},
   "outputs": [
    {
     "name": "stdin",
     "output_type": "stream",
     "text": [
      "Enter your percentage :  90\n"
     ]
    },
    {
     "name": "stdout",
     "output_type": "stream",
     "text": [
      "B Grade\n"
     ]
    }
   ],
   "source": [
    "per=float(input(\"Enter your percentage : \"))\n",
    "if per>90:\n",
    "    print(\"A Grade\")\n",
    "elif per>80 and per<=90:\n",
    "    print(\"B Grade\")\n",
    "elif per>=60 and per<=80:\n",
    "    print(\"C Grade\")\n",
    "elif per<60:\n",
    "    print(\"D Grade\")\n",
    "else:\n",
    "    print(\"enter percentage between 0 to 100\") "
   ]
  },
  {
   "cell_type": "markdown",
   "id": "951b0636-f11d-4bd9-ab8f-157f999a28f8",
   "metadata": {},
   "source": [
    "# 2.PROGRAM FOR CALCULATING ROAD TAX ACCORDING  TO GIVEN COST PRICE OF A BIKE ?\n",
    "## ANSWER:---\n"
   ]
  },
  {
   "cell_type": "code",
   "execution_count": 2,
   "id": "d91d3248-4eb6-4d1f-85f7-1727b23326e4",
   "metadata": {},
   "outputs": [
    {
     "name": "stdin",
     "output_type": "stream",
     "text": [
      "Enter the cost of the bike : 50000\n"
     ]
    },
    {
     "name": "stdout",
     "output_type": "stream",
     "text": [
      "5% tax\n"
     ]
    }
   ],
   "source": [
    "cost_bike=int(input(\"Enter the cost of the bike :\"))\n",
    "if cost_bike>100000:\n",
    "    print(\"15% tax\")\n",
    "elif cost_bike>50000 and cost_bike<=100000:\n",
    "    print(\"10% tax\")\n",
    "elif cost_bike<=50000:\n",
    "    print(\"5% tax\")\n",
    "else:\n",
    "    print(\"enter valid cost\")"
   ]
  },
  {
   "cell_type": "markdown",
   "id": "88e4faf2-1486-4099-b6dd-357225fc71aa",
   "metadata": {},
   "source": [
    "# 3.ACCECPTING THE CITIES AND GIVING MONUMENTS OF THE CITY:"
   ]
  },
  {
   "cell_type": "code",
   "execution_count": 5,
   "id": "80147499-ebb9-4caf-84e2-1d33b41ce36d",
   "metadata": {},
   "outputs": [
    {
     "name": "stdin",
     "output_type": "stream",
     "text": [
      "Enter city name : Jaipur\n"
     ]
    },
    {
     "name": "stdout",
     "output_type": "stream",
     "text": [
      "Jai Mahal\n"
     ]
    }
   ],
   "source": [
    "city=input(\"Enter city name :\")\n",
    "if city==\"Delhi\":\n",
    "    print(\"Red Fort\")\n",
    "elif city==\"Agra\":\n",
    "    print(\"Taj Mahal\")\n",
    "elif city==\"Jaipur\":\n",
    "    print(\"Jai Mahal\")\n",
    "else:\n",
    "    print(\"enter valid city name\")"
   ]
  },
  {
   "cell_type": "markdown",
   "id": "9353412c-1df2-4584-9a0f-17c9f8434be7",
   "metadata": {},
   "source": [
    "#  4.How many times a given number can be divided by 3 before it is less than or equal to 10 ?\n",
    "## ANSWER:--"
   ]
  },
  {
   "cell_type": "code",
   "execution_count": 7,
   "id": "f99cc5ab-565d-4a62-abec-a5df2b290714",
   "metadata": {},
   "outputs": [
    {
     "name": "stdout",
     "output_type": "stream",
     "text": [
      "3\n",
      "1\n",
      "0\n"
     ]
    }
   ],
   "source": [
    "def count_divisions(n):\n",
    "    count = 0\n",
    "    while n > 10:\n",
    "        n = n // 3\n",
    "        count += 1\n",
    "    return count\n",
    "\n",
    "# Example usage\n",
    "print(count_divisions(100)) \n",
    "print(count_divisions(30))  \n",
    "print(count_divisions(9))   \n"
   ]
  },
  {
   "cell_type": "markdown",
   "id": "ce390c3e-a6f9-46e5-9e24-f997735bbf92",
   "metadata": {},
   "source": [
    "# 5.Why and when to use while loop in Python give a detailed description with example ?\n",
    "### ANSWER:--\n",
    "A while loop is a type of loop in Python that is used to execute a block of code repeatedly as long as a certain condition is true.\n",
    "\n",
    "The while loop is useful when we need to perform a task repeatedly until a certain condition is met, and we don't know in advance how many times the \n",
    "\n",
    "task needs to be performed.\n",
    "\n",
    "In this syntax, the condition is a boolean expression that is evaluated before each iteration of the loop. \n",
    "\n",
    "If the condition is True, the code block is executed, and then the condition is evaluated again.\n",
    "\n",
    "This process continues until the condition becomes False, at which point the loop terminates and the program continues with the next line of code \n",
    "\n",
    "after the loop.\n",
    "\n",
    "Here's an example to illustrate the use of while loop in Python:"
   ]
  },
  {
   "cell_type": "code",
   "execution_count": 8,
   "id": "36aeec8f-3042-4d6e-b483-1bf4f2e3bc69",
   "metadata": {},
   "outputs": [
    {
     "name": "stdout",
     "output_type": "stream",
     "text": [
      "1\n",
      "2\n",
      "3\n",
      "4\n",
      "5\n",
      "6\n",
      "7\n",
      "8\n",
      "9\n",
      "10\n"
     ]
    }
   ],
   "source": [
    "# Program to print numbers from 1 to 10 using a while loop\n",
    "i = 1\n",
    "while i <= 10:\n",
    "    print(i)\n",
    "    i += 1\n"
   ]
  },
  {
   "cell_type": "code",
   "execution_count": 9,
   "id": "d4775b2f-6e36-451b-9fb9-5fbfafb2953d",
   "metadata": {},
   "outputs": [
    {
     "name": "stdin",
     "output_type": "stream",
     "text": [
      "Enter a number:  5\n",
      "Enter a number:  6\n",
      "Enter a number:  3\n",
      "Enter a number:  4\n",
      "Enter a number:  3\n",
      "Enter a number:  -1\n"
     ]
    },
    {
     "name": "stdout",
     "output_type": "stream",
     "text": [
      "You entered: [5, 6, 3, 4, 3]\n"
     ]
    }
   ],
   "source": [
    "# Program to take input from the user until they enter a negative number\n",
    "data = []\n",
    "while True:\n",
    "    num = int(input(\"Enter a number: \"))\n",
    "    if num < 0:\n",
    "        break\n",
    "    data.append(num)\n",
    "print(\"You entered:\", data)\n"
   ]
  },
  {
   "cell_type": "markdown",
   "id": "aec78077-320a-4cf9-8476-31b9ba5ad2ff",
   "metadata": {},
   "source": [
    "In this program, we use a while loop to repeatedly prompt the user for input until they enter a negative number. \n",
    "\n",
    "Inside the loop, we use the input function to get input from the user and convert it to an integer using the int function.\n",
    "\n",
    "We then check if the number is negative using the if statement, and if it is, we use the break statement to exit the loop.\n",
    "\n",
    "Otherwise, we append the number to a list called data. After the loop, we print out the contents of the data list to show the user what they entered.\n",
    "\n",
    "In summary, we use while loop in Python when we need to repeat a task until a certain condition is met, and we don't know in advance how many times the task needs to be performed. \n",
    "\n",
    "We can use while loop for input validation, data processing, and many other purposes. \n",
    "\n",
    "However, we need to be careful to ensure that the loop eventually terminates, or else it may cause the program to hang or crash."
   ]
  },
  {
   "cell_type": "markdown",
   "id": "0a5558df-c58c-4419-ac71-096bdd95868c",
   "metadata": {},
   "source": [
    "# 6.Use nested while loop to print three different patterns ?\n",
    "## ANSWER:-"
   ]
  },
  {
   "cell_type": "code",
   "execution_count": 15,
   "id": "5bc2565a-9c9e-424c-ab9b-397a391a0bac",
   "metadata": {},
   "outputs": [
    {
     "name": "stdout",
     "output_type": "stream",
     "text": [
      "*\n",
      "**\n",
      "***\n",
      "****\n",
      "*****\n"
     ]
    }
   ],
   "source": [
    "n = 5\n",
    "i = 1\n",
    "while i <= n:\n",
    "    j = 1\n",
    "    while j <= i:\n",
    "        print(\"*\", end=\"\")\n",
    "        j += 1\n",
    "    print(\"\")\n",
    "    i += 1"
   ]
  },
  {
   "cell_type": "code",
   "execution_count": null,
   "id": "d57ea47f-48e8-4534-94d6-62389080c5e2",
   "metadata": {},
   "outputs": [
    {
     "name": "stdout",
     "output_type": "stream",
     "text": [
      "*****\n",
      "****\n",
      "***\n",
      "**\n",
      "*\n"
     ]
    }
   ],
   "source": [
    "# second pattern\n",
    "n = 5\n",
    "i = n\n",
    "while i >= 1:\n",
    "    j = 1\n",
    "    while j <= i:\n",
    "        print(\"*\", end=\"\")\n",
    "        j += 1\n",
    "    print(\"\")\n",
    "    i -= 1\n"
   ]
  },
  {
   "cell_type": "code",
   "execution_count": 16,
   "id": "58c58eb0-61d2-4efb-b4ae-580f7e723c24",
   "metadata": {},
   "outputs": [
    {
     "name": "stdout",
     "output_type": "stream",
     "text": [
      "    *\n",
      "   **\n",
      "  ***\n",
      " ****\n",
      "*****\n"
     ]
    }
   ],
   "source": [
    "# THIRD PATTERN\n",
    "i = 1\n",
    "while i <= 5:\n",
    "    j = 1\n",
    "    while j <= 5 - i:\n",
    "        print(\" \", end=\"\")\n",
    "        j += 1\n",
    "    k = 1\n",
    "    while k <= i:\n",
    "        print(\"*\", end=\"\")\n",
    "        k += 1\n",
    "    print()\n",
    "    i += 1\n"
   ]
  },
  {
   "cell_type": "markdown",
   "id": "2cbeef53-7d1d-493e-a804-92b88703b5f2",
   "metadata": {},
   "source": [
    "# 7.Reverse a while loop to display numbers from 10 to 1?\n",
    "## ANSWER:--"
   ]
  },
  {
   "cell_type": "code",
   "execution_count": 17,
   "id": "4b5f7e82-53a1-4209-a753-d453810c4e45",
   "metadata": {},
   "outputs": [
    {
     "name": "stdout",
     "output_type": "stream",
     "text": [
      "10\n",
      "9\n",
      "8\n",
      "7\n",
      "6\n",
      "5\n",
      "4\n",
      "3\n",
      "2\n",
      "1\n"
     ]
    }
   ],
   "source": [
    "num = 10\n",
    "while num >= 1:\n",
    "    print(num)\n",
    "    num -= 1\n"
   ]
  },
  {
   "cell_type": "code",
   "execution_count": null,
   "id": "b63294be-77cb-4114-a627-9cf7ef21d3d9",
   "metadata": {},
   "outputs": [],
   "source": []
  }
 ],
 "metadata": {
  "kernelspec": {
   "display_name": "Python 3 (ipykernel)",
   "language": "python",
   "name": "python3"
  },
  "language_info": {
   "codemirror_mode": {
    "name": "ipython",
    "version": 3
   },
   "file_extension": ".py",
   "mimetype": "text/x-python",
   "name": "python",
   "nbconvert_exporter": "python",
   "pygments_lexer": "ipython3",
   "version": "3.10.8"
  }
 },
 "nbformat": 4,
 "nbformat_minor": 5
}
