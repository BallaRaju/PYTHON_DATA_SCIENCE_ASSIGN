{
 "cells": [
  {
   "cell_type": "markdown",
   "id": "69143ee3-a07a-42cc-a2cf-a6e77425a52c",
   "metadata": {},
   "source": [
    "# Q1. Create a python program to sort the given list of tuples based on integer value using a lambda function. \n",
    "# [('Sachin Tendulkar', 34357)('Ricky Ponting', 27483), ('Jack Kallis', 25534), ('Virat Kohli', 24936)]\n",
    "## ANSWER:--"
   ]
  },
  {
   "cell_type": "code",
   "execution_count": 6,
   "id": "f7471c95-1eca-4fcd-b000-52d6a2752e21",
   "metadata": {},
   "outputs": [
    {
     "name": "stdout",
     "output_type": "stream",
     "text": [
      "[('Virat Kohli', 24936), ('Jack Kallis', 25534), ('Ricky Ponting', 27483), ('Sachin Tendulkar', 34357)]\n"
     ]
    }
   ],
   "source": [
    "data = [('Sachin Tendulkar', 34357), ('Ricky Ponting', 27483), ('Jack Kallis', 25534), ('Virat Kohli', 24936)]\n",
    "\n",
    "sorted_data = sorted(data, key=lambda x: x[1], reverse=False)\n",
    "\n",
    "print(sorted_data)\n"
   ]
  },
  {
   "cell_type": "markdown",
   "id": "05903918-ca73-401d-b601-d0ba050a145d",
   "metadata": {},
   "source": [
    "# Q2. Write a Python Program to find the squares of all the numbers in the given list of integers using lambda and map functions.\n",
    "# [1, 2, 3, 4, 5, 6, 7, 8, 9, 10]\n",
    "## ANSWER:--\n"
   ]
  },
  {
   "cell_type": "code",
   "execution_count": 7,
   "id": "dd8c6224-8f88-488f-a0cb-46e7610effa2",
   "metadata": {},
   "outputs": [
    {
     "data": {
      "text/plain": [
       "[1, 4, 9, 16, 25, 36, 49, 64, 81, 100]"
      ]
     },
     "execution_count": 7,
     "metadata": {},
     "output_type": "execute_result"
    }
   ],
   "source": [
    "gl=[1,2,3,4,5,6,7,8,9,10]\n",
    "list(map(lambda x:x**2,gl))"
   ]
  },
  {
   "cell_type": "markdown",
   "id": "2a4decce-c09d-410b-8082-263ea0e802ce",
   "metadata": {},
   "source": [
    "# Q3. Write a python program to convert the given list of integers into a tuple of strings. Use map and lambda functions\n",
    "# Given String: [1, 2, 3, 4, 5, 6, 7, 8, 9, 10]\n",
    "# Expected output: ('1', '2', '3', '4', '5', '6', '7', '8', '9', '10')\n",
    "### ANSWER:---"
   ]
  },
  {
   "cell_type": "code",
   "execution_count": 8,
   "id": "145bdeb3-e849-4e55-b4fa-df8c23775273",
   "metadata": {},
   "outputs": [
    {
     "data": {
      "text/plain": [
       "('1', '2', '3', '4', '5', '6', '7', '8', '9', '10')"
      ]
     },
     "execution_count": 8,
     "metadata": {},
     "output_type": "execute_result"
    }
   ],
   "source": [
    "gl1=[1,2,3,4,5,6,7,8,9,10]\n",
    "tuple(map(lambda x:str(x),gl1))"
   ]
  },
  {
   "cell_type": "markdown",
   "id": "6e1c01bf-0129-48a1-ac30-a22927d45aca",
   "metadata": {},
   "source": [
    "# Q4. Write a python program using reduce function to compute the product of a list containing numbers from 1 to 25.\n",
    "### ANSWER:--"
   ]
  },
  {
   "cell_type": "code",
   "execution_count": 9,
   "id": "61a84715-c620-4638-9586-49d2bd23a11a",
   "metadata": {},
   "outputs": [
    {
     "name": "stdout",
     "output_type": "stream",
     "text": [
      "[1, 2, 3, 4, 5, 6, 7, 8, 9, 10, 11, 12, 13, 14, 15, 16, 17, 18, 19, 20, 21, 22, 23, 24, 25]\n"
     ]
    }
   ],
   "source": [
    "l=[]\n",
    "for i in range(1,26):\n",
    "    l.append(i)\n",
    "print(l)"
   ]
  },
  {
   "cell_type": "code",
   "execution_count": 10,
   "id": "e73de881-8e26-4325-89c2-86c8302b4aad",
   "metadata": {},
   "outputs": [],
   "source": [
    "def product(a,b):\n",
    "    return a*b"
   ]
  },
  {
   "cell_type": "code",
   "execution_count": 12,
   "id": "9d3ec486-71bc-4abe-b03a-7c6d9f800ff4",
   "metadata": {},
   "outputs": [
    {
     "data": {
      "text/plain": [
       "15511210043330985984000000"
      ]
     },
     "execution_count": 12,
     "metadata": {},
     "output_type": "execute_result"
    }
   ],
   "source": [
    "from functools import reduce\n",
    "reduce(product,l)"
   ]
  },
  {
   "cell_type": "markdown",
   "id": "c44c658b-d3df-4da0-8551-bd7eb2736268",
   "metadata": {},
   "source": [
    "# Q5. Write a python program to filter the numbers in a given list that are divisible by 2 and 3 using the filter function.\n",
    "# [2, 3, 6, 9, 27, 60, 90, 120, 55, 46]\n",
    "## ANSWER:--"
   ]
  },
  {
   "cell_type": "code",
   "execution_count": 13,
   "id": "58a687ec-d229-4403-aa0a-9b1d684485d2",
   "metadata": {},
   "outputs": [
    {
     "data": {
      "text/plain": [
       "[6, 60, 90, 120]"
      ]
     },
     "execution_count": 13,
     "metadata": {},
     "output_type": "execute_result"
    }
   ],
   "source": [
    "l1=[2,3,6,9,27,60,90,120,55,46]\n",
    "list(filter(lambda x:x%2==0 and x%3==0,l1))"
   ]
  },
  {
   "cell_type": "markdown",
   "id": "1f0933d3-d280-4570-aff3-18ff1a69df06",
   "metadata": {},
   "source": [
    "# Q6. Write a python program to find palindromes in the given list of strings using lambda and filter function.\n",
    "# ['python', 'php', 'aba', 'radar', 'level']\n",
    "## ANSWER:--"
   ]
  },
  {
   "cell_type": "code",
   "execution_count": 14,
   "id": "9290504a-4ec4-489b-b3c1-cc4f1806e5cd",
   "metadata": {},
   "outputs": [],
   "source": [
    "st=['python','php','aba','radar','level']"
   ]
  },
  {
   "cell_type": "code",
   "execution_count": null,
   "id": "88752d0e-9c68-40c1-8496-6bf7c20bc578",
   "metadata": {},
   "outputs": [],
   "source": [
    "filter(lambda x:x==x.reversed,st)"
   ]
  }
 ],
 "metadata": {
  "kernelspec": {
   "display_name": "Python 3 (ipykernel)",
   "language": "python",
   "name": "python3"
  },
  "language_info": {
   "codemirror_mode": {
    "name": "ipython",
    "version": 3
   },
   "file_extension": ".py",
   "mimetype": "text/x-python",
   "name": "python",
   "nbconvert_exporter": "python",
   "pygments_lexer": "ipython3",
   "version": "3.10.8"
  }
 },
 "nbformat": 4,
 "nbformat_minor": 5
}
